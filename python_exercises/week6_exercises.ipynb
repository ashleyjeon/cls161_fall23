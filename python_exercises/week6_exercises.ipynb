{
 "cells": [
  {
   "cell_type": "markdown",
   "metadata": {},
   "source": [
    "## Week 6 Python Crash Course Exercises"
   ]
  },
  {
   "cell_type": "code",
   "execution_count": null,
   "metadata": {},
   "outputs": [],
   "source": [
    "# 8-1, 8-2, 8-3, 8-5, 8-6, 8-7"
   ]
  },
  {
   "cell_type": "code",
   "execution_count": 1,
   "metadata": {},
   "outputs": [
    {
     "name": "stdout",
     "output_type": "stream",
     "text": [
      "This chapter contains information about how to write functions, which are blocks of code that are designed to do one specific job.\n"
     ]
    }
   ],
   "source": [
    "# 8-1 Message\n",
    "def display_message():\n",
    "    print(\"This chapter contains information about how to write functions, which are blocks of code that are designed to do one specific job.\")\n",
    "\n",
    "display_message()"
   ]
  },
  {
   "cell_type": "code",
   "execution_count": 3,
   "metadata": {},
   "outputs": [
    {
     "name": "stdout",
     "output_type": "stream",
     "text": [
      "One of my favorite books is Alice in Wonderland\n"
     ]
    }
   ],
   "source": [
    "# 8-2 Favorite Book\n",
    "def favorite_book(title):\n",
    "    print(f\"One of my favorite books is {title}\")\n",
    "\n",
    "favorite_book(\"Alice in Wonderland\")"
   ]
  },
  {
   "cell_type": "code",
   "execution_count": 6,
   "metadata": {},
   "outputs": [
    {
     "name": "stdout",
     "output_type": "stream",
     "text": [
      "The size of the shirt is 20 inches and the message is \"Have a nice day!\"\n",
      "The size of the shirt is 15 inches and the message is \"Hello World!\"\n"
     ]
    }
   ],
   "source": [
    "# 8-3 T-Shirt\n",
    "def make_shirt(size, text):\n",
    "    print(f'The size of the shirt is {size} inches and the message is \"{text}\"')\n",
    "\n",
    "# Positional arguments\n",
    "make_shirt(20, \"Have a nice day!\")\n",
    "\n",
    "# Keyword arguments\n",
    "make_shirt(size=15, text='Hello World!')\n"
   ]
  },
  {
   "cell_type": "code",
   "execution_count": 8,
   "metadata": {},
   "outputs": [
    {
     "name": "stdout",
     "output_type": "stream",
     "text": [
      "New York City is in USA\n",
      "San Fransicso is in USA\n",
      "Reykjavik is in Iceland\n"
     ]
    }
   ],
   "source": [
    "# 8-5 Cities\n",
    "def describe_city(city, country='USA'):\n",
    "    print(f\"{city} is in {country}\")\n",
    "\n",
    "describe_city('New York City', 'USA')\n",
    "describe_city('San Fransicso', 'USA')\n",
    "describe_city('Reykjavik', 'Iceland')"
   ]
  },
  {
   "cell_type": "code",
   "execution_count": 13,
   "metadata": {},
   "outputs": [
    {
     "name": "stdout",
     "output_type": "stream",
     "text": [
      "Santiago, Chile\n",
      "Seoul, South Korea\n",
      "Tokyo, Japan\n"
     ]
    }
   ],
   "source": [
    "# 8-6 City Names\n",
    "def city_country(city, country):\n",
    "    formatted_string = f\"{city}, {country}\"\n",
    "    return formatted_string\n",
    "\n",
    "pair1 = city_country('Santiago', 'Chile')\n",
    "pair2 = city_country('Seoul', 'South Korea')\n",
    "pair3 = city_country('Tokyo', 'Japan')\n",
    "\n",
    "print(pair1)\n",
    "print(pair2)\n",
    "print(pair3)"
   ]
  },
  {
   "cell_type": "code",
   "execution_count": 22,
   "metadata": {},
   "outputs": [
    {
     "name": "stdout",
     "output_type": "stream",
     "text": [
      "{'name': 'channel ORANGE', 'title': 'Frank Ocean'}\n",
      "{'name': 'Blonde', 'title': 'Frank Ocean'}\n",
      "{'name': 'In my Room', 'title': 'Frank Ocean'}\n",
      "{'name': 'Red', 'title': 'Taylor Swift', 'num_songs': 16}\n"
     ]
    }
   ],
   "source": [
    "# 8-7 Album\n",
    "def make_album(name, title, num_songs=None):\n",
    "    dict = {}\n",
    "    dict['name'] = name\n",
    "    dict['title'] = title \n",
    "    if num_songs:\n",
    "        dict['num_songs'] = num_songs\n",
    "    return dict\n",
    "\n",
    "album1 = make_album('channel ORANGE', 'Frank Ocean')\n",
    "album2 = make_album('Blonde', 'Frank Ocean')\n",
    "album3 = make_album('In my Room', 'Frank Ocean')\n",
    "album4 = make_album('Red', 'Taylor Swift', 16)\n",
    "\n",
    "print(album1)\n",
    "print(album2)\n",
    "print(album3)\n",
    "print(album4)"
   ]
  }
 ],
 "metadata": {
  "interpreter": {
   "hash": "31f2aee4e71d21fbe5cf8b01ff0e069b9275f58929596ceb00d14d90e3e16cd6"
  },
  "kernelspec": {
   "display_name": "Python 3.9.6 64-bit",
   "language": "python",
   "name": "python3"
  },
  "language_info": {
   "codemirror_mode": {
    "name": "ipython",
    "version": 3
   },
   "file_extension": ".py",
   "mimetype": "text/x-python",
   "name": "python",
   "nbconvert_exporter": "python",
   "pygments_lexer": "ipython3",
   "version": "3.9.6"
  },
  "orig_nbformat": 4
 },
 "nbformat": 4,
 "nbformat_minor": 2
}
