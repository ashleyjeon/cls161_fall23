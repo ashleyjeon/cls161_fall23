{
 "cells": [
  {
   "cell_type": "markdown",
   "metadata": {},
   "source": [
    "# Week 3 Python Crash Course Exercises "
   ]
  },
  {
   "cell_type": "code",
   "execution_count": null,
   "metadata": {},
   "outputs": [],
   "source": [
    "# Name: Ashley Jeon\n",
    "# Date: 09/25/2023"
   ]
  },
  {
   "cell_type": "markdown",
   "metadata": {},
   "source": [
    "## Chapter 2"
   ]
  },
  {
   "cell_type": "code",
   "execution_count": 1,
   "metadata": {},
   "outputs": [
    {
     "name": "stdout",
     "output_type": "stream",
     "text": [
      "Hello World!\n"
     ]
    }
   ],
   "source": [
    "# 2-1 Simple Message\n",
    "message1 = \"Hello World!\" \n",
    "print(message1)"
   ]
  },
  {
   "cell_type": "code",
   "execution_count": 3,
   "metadata": {},
   "outputs": [
    {
     "name": "stdout",
     "output_type": "stream",
     "text": [
      "This is message2\n",
      "This is message2 changed\n"
     ]
    }
   ],
   "source": [
    "# 2-2 Simple Messages\n",
    "message2 = \"This is message2\"\n",
    "print(message2)\n",
    "\n",
    "message2 = \"This is message2 changed\"\n",
    "print(message2)"
   ]
  },
  {
   "cell_type": "code",
   "execution_count": 6,
   "metadata": {},
   "outputs": [
    {
     "name": "stdout",
     "output_type": "stream",
     "text": [
      "Hello Ashley, would you like to learn some Python today?\n"
     ]
    }
   ],
   "source": [
    "# 2-3 Personal Message\n",
    "name = \"Ashley\"\n",
    "print(\"Hello \" + name + \", would you like to learn some Python today?\")"
   ]
  },
  {
   "cell_type": "code",
   "execution_count": 9,
   "metadata": {},
   "outputs": [
    {
     "name": "stdout",
     "output_type": "stream",
     "text": [
      "SELENA\n",
      "selena\n",
      "Selena\n"
     ]
    }
   ],
   "source": [
    "# 2-4 Name Cases\n",
    "name = \"Selena\"\n",
    "name = name.upper()\n",
    "print(name)\n",
    "\n",
    "name = name.lower()\n",
    "print(name)\n",
    "\n",
    "name = name.title()\n",
    "print(name)"
   ]
  },
  {
   "cell_type": "code",
   "execution_count": 16,
   "metadata": {},
   "outputs": [
    {
     "name": "stdout",
     "output_type": "stream",
     "text": [
      "Mahatma Gandhi once said, \"You must be the change you wish to see in the world.\"\n"
     ]
    }
   ],
   "source": [
    "# 2-5 Famous Quote\n",
    "print('Mahatma Gandhi once said, \"You must be the change you wish to see in the world.\"')"
   ]
  },
  {
   "cell_type": "code",
   "execution_count": 18,
   "metadata": {},
   "outputs": [
    {
     "name": "stdout",
     "output_type": "stream",
     "text": [
      "Mahatma Gandhi once said, \"You must be the change you wish to see in the world.\"\n"
     ]
    }
   ],
   "source": [
    "# 2-6 Famous Quote 2\n",
    "famous_person = \"Mahatma Gandhi\"\n",
    "message = famous_person + ' once said, \"You must be the change you wish to see in the world.\"' \n",
    "\n",
    "print(message)"
   ]
  },
  {
   "cell_type": "code",
   "execution_count": 23,
   "metadata": {},
   "outputs": [
    {
     "name": "stdout",
     "output_type": "stream",
     "text": [
      "\tSkye \n",
      "\n",
      "Skye \n",
      "\n",
      "\tSkye\n",
      "Skye\n"
     ]
    }
   ],
   "source": [
    "# 2-7 Stripping Names\n",
    "name = \"\\tSkye \\n\"\n",
    "print(name)\n",
    "\n",
    "print(name.lstrip())\n",
    "print(name.rstrip())\n",
    "print(name.strip())"
   ]
  },
  {
   "cell_type": "code",
   "execution_count": 24,
   "metadata": {},
   "outputs": [],
   "source": [
    "# 2-10 Adding Comments\n",
    "# This program contains answers to Python Crash Course exercises for Week 3 of \n",
    "#   Intro to Digital Humanities."
   ]
  },
  {
   "cell_type": "markdown",
   "metadata": {},
   "source": [
    "## Chapter 3"
   ]
  },
  {
   "cell_type": "code",
   "execution_count": 35,
   "metadata": {
    "scrolled": true
   },
   "outputs": [
    {
     "name": "stdout",
     "output_type": "stream",
     "text": [
      "Carrie\n",
      "Sophia\n",
      "Ramya\n",
      "Selena\n",
      "Kate\n",
      "Claire\n"
     ]
    }
   ],
   "source": [
    "# 3-1 Names\n",
    "friends = [\"Carrie\", \"Sophia\", \"Ramya\", \"Selena\", \"Kate\", \"Claire\"]\n",
    "\n",
    "for i in range(6): \n",
    "    print(friends[i])"
   ]
  },
  {
   "cell_type": "code",
   "execution_count": 36,
   "metadata": {},
   "outputs": [
    {
     "name": "stdout",
     "output_type": "stream",
     "text": [
      "Hi Carrie! How are you today?\n",
      "Hi Sophia! How are you today?\n",
      "Hi Ramya! How are you today?\n",
      "Hi Selena! How are you today?\n",
      "Hi Kate! How are you today?\n",
      "Hi Claire! How are you today?\n"
     ]
    }
   ],
   "source": [
    "# 3-2 Greetings\n",
    "friends = [\"Carrie\", \"Sophia\", \"Ramya\", \"Selena\", \"Kate\", \"Claire\"]\n",
    "\n",
    "for i in range(6): \n",
    "    print(\"Hi \" + friends[i] + \"! How are you today?\")"
   ]
  },
  {
   "cell_type": "code",
   "execution_count": 39,
   "metadata": {},
   "outputs": [
    {
     "name": "stdout",
     "output_type": "stream",
     "text": [
      "I love to drive my car which is a 2012 Honda Crosstour.\n"
     ]
    }
   ],
   "source": [
    "# 3-3 Your Own List\n",
    "transportation = [\"car\", \"bus\", \"train\", \"Honda\", \"Toyota\"]\n",
    "print(\"I love to drive my \" + transportation[0] + \" which is a 2012 \" \n",
    "                            + transportation[3] + \" Crosstour.\")"
   ]
  },
  {
   "cell_type": "code",
   "execution_count": 59,
   "metadata": {},
   "outputs": [
    {
     "name": "stdout",
     "output_type": "stream",
     "text": [
      "Hello Rebekah! You are invited to a dinner party at my house next week!\n",
      "Hello Joshua! You are invited to a dinner party at my house next week!\n",
      "Hello Chris! You are invited to a dinner party at my house next week!\n"
     ]
    }
   ],
   "source": [
    "# 3-4 Guest List\n",
    "invite = [\"Rebekah\", \"Joshua\", \"Chris\"]\n",
    "\n",
    "for i in range(3): \n",
    "    print(\"Hello \" + invite[i] + \"! You are invited to a dinner party at my house next week!\")"
   ]
  },
  {
   "cell_type": "code",
   "execution_count": 60,
   "metadata": {},
   "outputs": [
    {
     "name": "stdout",
     "output_type": "stream",
     "text": [
      "Hello Rebekah! You are invited to a dinner party at my house next week!\n",
      "Hello Joshua! You are invited to a dinner party at my house next week!\n",
      "Hello Chris! You are invited to a dinner party at my house next week!\n",
      "Uh oh! It seems that Chris cannot make it to dinner.\n",
      "Hello Rebekah! You are invited to a dinner party at my house next week!\n",
      "Hello Joshua! You are invited to a dinner party at my house next week!\n",
      "Hello Yunah! You are invited to a dinner party at my house next week!\n"
     ]
    }
   ],
   "source": [
    "# 3-5 Changing Guest List\n",
    "invite = [\"Rebekah\", \"Joshua\", \"Chris\"]\n",
    "\n",
    "for i in range(3): \n",
    "    print(\"Hello \" + invite[i] + \"! You are invited to a dinner party at my house next week!\")\n",
    "\n",
    "print(\"Uh oh! It seems that \" + invite[2] + \" cannot make it to dinner.\")\n",
    "\n",
    "new_person = \"Yunah\"\n",
    "invite[2] = new_person\n",
    "\n",
    "for i in range(3): \n",
    "    print(\"Hello \" + invite[i] + \"! You are invited to a dinner party at my house next week!\")"
   ]
  },
  {
   "cell_type": "code",
   "execution_count": 152,
   "metadata": {},
   "outputs": [
    {
     "name": "stdout",
     "output_type": "stream",
     "text": [
      "Hey everyone! I found a bigger dinner table, so I'm extending the invite to a few more people!\n",
      "Hello Max! You are invited to a big dinner party at my house next week!\n",
      "Hello Rebekah! You are invited to a big dinner party at my house next week!\n",
      "Hello Deborah! You are invited to a big dinner party at my house next week!\n",
      "Hello Joshua! You are invited to a big dinner party at my house next week!\n",
      "Hello Chris! You are invited to a big dinner party at my house next week!\n",
      "Hello Jennifer! You are invited to a big dinner party at my house next week!\n"
     ]
    }
   ],
   "source": [
    "# 3-6 More Guests\n",
    "invite = [\"Rebekah\", \"Joshua\", \"Chris\"]\n",
    "\n",
    "print(\"Hey everyone! I found a bigger dinner table, so I'm extending the invite to a few more people!\")\n",
    "\n",
    "invite.insert(0, \"Max\")\n",
    "invite.insert(2, \"Deborah\")\n",
    "invite.append(\"Jennifer\")\n",
    "\n",
    "for i in range(6): \n",
    "    print(\"Hello \" + invite[i] + \"! You are invited to a big dinner party at my house next week!\")\n"
   ]
  },
  {
   "cell_type": "code",
   "execution_count": 153,
   "metadata": {},
   "outputs": [
    {
     "name": "stdout",
     "output_type": "stream",
     "text": [
      "Uh oh! Change of plans, but I think I can only host two people next week. Sorry!!\n",
      "The guest list before removing is \n",
      "Max, Rebekah, Deborah, Joshua, Chris, Jennifer\n",
      "I'm sorry Jennifer I can't invite you to dinner. Maybe next time.\n",
      "I'm sorry Chris I can't invite you to dinner. Maybe next time.\n",
      "I'm sorry Joshua I can't invite you to dinner. Maybe next time.\n",
      "I'm sorry Deborah I can't invite you to dinner. Maybe next time.\n",
      "Hey Max, you are still invited to my dinner.\n",
      "Hey Rebekah, you are still invited to my dinner.\n"
     ]
    },
    {
     "data": {
      "text/plain": [
       "[]"
      ]
     },
     "execution_count": 153,
     "metadata": {},
     "output_type": "execute_result"
    }
   ],
   "source": [
    "# 3-7 Shrinking Guest List\n",
    "print(\"Uh oh! Change of plans, but I think I can only host two people next week. Sorry!!\")\n",
    "\n",
    "# Printing out the list before any removals\n",
    "print(\"The guest list before removing is \")\n",
    "guest = \"\"\n",
    "\n",
    "for i in range(6):\n",
    "    guest += invite[i]\n",
    "\n",
    "    if (invite[i] != \"Jennifer\"):\n",
    "       guest += \", \"\n",
    "\n",
    "print(guest)\n",
    "\n",
    "# Popping and apologizing for dinner\n",
    "for i in range(4):\n",
    "    removed = invite.pop()\n",
    "\n",
    "    print(\"I'm sorry \" + removed + \" I can't invite you to dinner. Maybe next time.\")\n",
    "\n",
    "\n",
    "# Two people still invited\n",
    "for i in range(2):\n",
    "    print(\"Hey \" + invite[i] + \", you are still invited to my dinner.\")\n",
    "\n",
    "\n",
    "# Removing last two names for an empty list\n",
    "del invite[0]\n",
    "del invite[0]\n",
    "invite\n"
   ]
  },
  {
   "cell_type": "code",
   "execution_count": 169,
   "metadata": {},
   "outputs": [
    {
     "name": "stdout",
     "output_type": "stream",
     "text": [
      "['Amsterdam', 'France', 'Korea', 'Greece', 'Cappadocia']\n",
      "['Amsterdam', 'Cappadocia', 'France', 'Greece', 'Korea']\n",
      "['Korea', 'Greece', 'France', 'Cappadocia', 'Amsterdam']\n",
      "['Amsterdam', 'France', 'Korea', 'Greece', 'Cappadocia']\n",
      "['Cappadocia', 'Greece', 'Korea', 'France', 'Amsterdam']\n",
      "['Amsterdam', 'France', 'Korea', 'Greece', 'Cappadocia']\n",
      "['Amsterdam', 'Cappadocia', 'France', 'Greece', 'Korea']\n",
      "['Korea', 'Greece', 'France', 'Cappadocia', 'Amsterdam']\n"
     ]
    }
   ],
   "source": [
    "# 3-8 Seeing the World\n",
    "\n",
    "world = [\"Amsterdam\", \"France\", \"Korea\", \"Greece\", \"Cappadocia\"]\n",
    "\n",
    "print(world)\n",
    "\n",
    "# Alphabetical order and reverse alphabetical order\n",
    "print(sorted(world))\n",
    "print(sorted(world, reverse=True))\n",
    "\n",
    "# Maintains original order\n",
    "print(world)\n",
    "\n",
    "world.reverse()\n",
    "print(world)\n",
    "\n",
    "# Back to original order\n",
    "world.reverse()\n",
    "print(world)\n",
    "\n",
    "# Changed order to alphabetical order\n",
    "world.sort()\n",
    "print(world)\n",
    "\n",
    "# Changed order to reverse alphabetical order\n",
    "world.sort(reverse=True)\n",
    "print(world)\n"
   ]
  },
  {
   "cell_type": "markdown",
   "metadata": {},
   "source": [
    "## Chapter 4"
   ]
  },
  {
   "cell_type": "markdown",
   "metadata": {},
   "source": [
    "4-1, 4-2, 4-3, 4-6, 4-10, 4-11"
   ]
  },
  {
   "cell_type": "code",
   "execution_count": 183,
   "metadata": {},
   "outputs": [
    {
     "name": "stdout",
     "output_type": "stream",
     "text": [
      "pepperoni\n",
      "cheese\n",
      "hawaiian\n",
      "I like pepperoni pizza.\n",
      "I like cheese pizza.\n",
      "I like hawaiian pizza.\n",
      "The reason why I love pepperoni pizza is because of the savory, slightly spicy flavor combination.\n",
      "Cheese pizza is a classic, and I love the mild creamy flavor and gooey texture.\n",
      "It is a controversial opinion, but I actually enjoy pineapples on my pizza and so I like hawaiian pizzas.\n",
      "I really love pizza!\n"
     ]
    }
   ],
   "source": [
    "# 4-1 Pizzas\n",
    "\n",
    "fav_pizzas = [\"pepperoni\", \"cheese\", \"hawaiian\"]\n",
    "\n",
    "for pizza in fav_pizzas:\n",
    "    print(pizza)\n",
    "\n",
    "# Modified loop with message\n",
    "for pizza in fav_pizzas:\n",
    "    print(\"I like \" + pizza + \" pizza.\")\n",
    "\n",
    "print(\"The reason why I love \" + fav_pizzas[0] + \" pizza is because of the savory, slightly spicy flavor combination.\")\n",
    "print(fav_pizzas[1].title() + \" pizza is a classic, and I love the mild creamy flavor and gooey texture.\")\n",
    "print(\"It is a controversial opinion, but I actually enjoy pineapples on my pizza and so I like \" + fav_pizzas[2] + \" pizzas.\")\n",
    "print(\"I really love pizza!\")\n"
   ]
  },
  {
   "cell_type": "code",
   "execution_count": 186,
   "metadata": {},
   "outputs": [
    {
     "name": "stdout",
     "output_type": "stream",
     "text": [
      "['bats', 'owls', 'frogs']\n",
      "['bats', 'owls', 'frogs']\n",
      "['bats', 'owls', 'frogs']\n",
      "To be honest, I am a bit scared of bats\n",
      "To be honest, I am a bit scared of owls\n",
      "To be honest, I am a bit scared of frogs\n",
      "These animals all have amazing night vision!\n"
     ]
    }
   ],
   "source": [
    "# 4-2 Animals\n",
    "animals = [\"bats\", \"owls\", \"frogs\"]\n",
    "\n",
    "for animal in animals:\n",
    "    print(animals)\n",
    "\n",
    "# Modified loop with message\n",
    "for animal in animals:\n",
    "    print(\"To be honest, I am a bit scared of \" + animal)\n",
    "\n",
    "print(\"These animals all have amazing night vision!\")\n"
   ]
  },
  {
   "cell_type": "code",
   "execution_count": 189,
   "metadata": {},
   "outputs": [
    {
     "name": "stdout",
     "output_type": "stream",
     "text": [
      "1\n",
      "2\n",
      "3\n",
      "4\n",
      "5\n",
      "6\n",
      "7\n",
      "8\n",
      "9\n",
      "10\n",
      "11\n",
      "12\n",
      "13\n",
      "14\n",
      "15\n",
      "16\n",
      "17\n",
      "18\n",
      "19\n",
      "20\n"
     ]
    }
   ],
   "source": [
    "# 4-3 Counting to Twenty\n",
    "for i in range(1, 21):\n",
    "    print(i) "
   ]
  },
  {
   "cell_type": "code",
   "execution_count": 194,
   "metadata": {},
   "outputs": [
    {
     "name": "stdout",
     "output_type": "stream",
     "text": [
      "1\n",
      "3\n",
      "5\n",
      "7\n",
      "9\n",
      "11\n",
      "13\n",
      "15\n",
      "17\n",
      "19\n"
     ]
    }
   ],
   "source": [
    "# 4-6 Odd Numbers\n",
    "odd = range(1, 20, 2)\n",
    "\n",
    "for i in odd: \n",
    "    print(i)"
   ]
  },
  {
   "cell_type": "code",
   "execution_count": 199,
   "metadata": {},
   "outputs": [
    {
     "name": "stdout",
     "output_type": "stream",
     "text": [
      "I love to drive my car which is a 2012 Honda Crosstour.\n",
      "The first three items in the list are: \n",
      "car\n",
      "bus\n",
      "train\n",
      "Three items from the middle of the list are: \n",
      "bus\n",
      "train\n",
      "Honda\n",
      "The last three items in the list are: \n",
      "train\n",
      "Honda\n",
      "Toyota\n"
     ]
    }
   ],
   "source": [
    "# 4-10 Slices\n",
    "\n",
    "# From 3-3:\n",
    "transportation = [\"car\", \"bus\", \"train\", \"Honda\", \"Toyota\"]\n",
    "print(\"I love to drive my \" + transportation[0] + \" which is a 2012 \" \n",
    "                            + transportation[3] + \" Crosstour.\")\n",
    "\n",
    "print(\"The first three items in the list are: \")\n",
    "for transport in transportation[:3]: \n",
    "    print(transport)\n",
    "\n",
    "\n",
    "print(\"Three items from the middle of the list are: \")\n",
    "for transport in transportation[1:4]:\n",
    "    print(transport)\n",
    "\n",
    "print(\"The last three items in the list are: \")\n",
    "for transport in transportation[-3:]:\n",
    "    print(transport)\n"
   ]
  },
  {
   "cell_type": "code",
   "execution_count": 211,
   "metadata": {},
   "outputs": [
    {
     "name": "stdout",
     "output_type": "stream",
     "text": [
      "My favorite pizzas are: \n",
      "pepperoni\n",
      "cheese\n",
      "hawaiian\n",
      "meat lovers\n",
      "My friend's favorite pizzas are: \n",
      "pepperoni\n",
      "cheese\n",
      "hawaiian\n",
      "veggie\n"
     ]
    }
   ],
   "source": [
    "# 4-11 My Pizzas, Your Pizzas\n",
    "\n",
    "fav_pizzas = [\"pepperoni\", \"cheese\", \"hawaiian\"]\n",
    "friends_pizzas = fav_pizzas[:]\n",
    "\n",
    "fav_pizzas.append(\"meat lovers\")\n",
    "friends_pizzas.append(\"veggie\")\n",
    "\n",
    "print(\"My favorite pizzas are: \")\n",
    "for pizzas in fav_pizzas:\n",
    "    print(pizzas)\n",
    "\n",
    "print(\"My friend's favorite pizzas are: \")\n",
    "for pizzas in friends_pizzas:\n",
    "    print(pizzas)"
   ]
  }
 ],
 "metadata": {
  "interpreter": {
   "hash": "31f2aee4e71d21fbe5cf8b01ff0e069b9275f58929596ceb00d14d90e3e16cd6"
  },
  "kernelspec": {
   "display_name": "Python 3 (ipykernel)",
   "language": "python",
   "name": "python3"
  },
  "language_info": {
   "codemirror_mode": {
    "name": "ipython",
    "version": 3
   },
   "file_extension": ".py",
   "mimetype": "text/x-python",
   "name": "python",
   "nbconvert_exporter": "python",
   "pygments_lexer": "ipython3",
   "version": "3.9.6"
  }
 },
 "nbformat": 4,
 "nbformat_minor": 2
}
