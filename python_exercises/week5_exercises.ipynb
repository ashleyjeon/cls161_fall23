{
 "cells": [
  {
   "cell_type": "markdown",
   "metadata": {},
   "source": [
    "## Week 5 Python Crash Course Exercises "
   ]
  },
  {
   "cell_type": "code",
   "execution_count": null,
   "metadata": {},
   "outputs": [],
   "source": [
    "# Ashley Jeon\n",
    "# 10/11/23"
   ]
  },
  {
   "cell_type": "code",
   "execution_count": null,
   "metadata": {},
   "outputs": [],
   "source": [
    "# 6-1, 6-2, 6-3, 6-4, 6-5, 6-7, 6-8, 6-9, 6-11"
   ]
  },
  {
   "cell_type": "code",
   "execution_count": 9,
   "metadata": {},
   "outputs": [
    {
     "name": "stdout",
     "output_type": "stream",
     "text": [
      "The person's first_name is Max\n",
      "The person's last_name is Jeon\n",
      "The person's age is 25\n",
      "The person's city is New York City\n"
     ]
    }
   ],
   "source": [
    "# 6-1 Person\n",
    "person = {'first_name': 'Max', 'last_name': 'Jeon', 'age': '25', 'city': 'New York City'}\n",
    "\n",
    "for info in person: \n",
    "    print(\"The person's \" + info + ' is ' + person[info])"
   ]
  },
  {
   "cell_type": "code",
   "execution_count": 12,
   "metadata": {},
   "outputs": [
    {
     "name": "stdout",
     "output_type": "stream",
     "text": [
      "Max's favorite number is 7\n",
      "Ashley's favorite number is 12\n",
      "Selena's favorite number is 15\n",
      "Rebekah's favorite number is 2\n",
      "Claire's favorite number is 99\n"
     ]
    }
   ],
   "source": [
    "# 6-2 Favorite Numbers\n",
    "fav_numbers = {'Max': 7, 'Ashley': 12, 'Selena': 15, 'Rebekah': 2, 'Claire': 99}\n",
    "\n",
    "for fav in fav_numbers:\n",
    "    print(fav + \"'s favorite number is \" + str(fav_numbers[fav]))"
   ]
  },
  {
   "cell_type": "code",
   "execution_count": 25,
   "metadata": {},
   "outputs": [
    {
     "name": "stdout",
     "output_type": "stream",
     "text": [
      "list: \n",
      "    collection of items in a particular order\n",
      "\n",
      "variable: \n",
      "    labels connected to a value, which is the information associated with that label\n",
      "\n",
      "string: \n",
      "    series of characters\n",
      "\n",
      "conditional test: \n",
      "    an expression that can be evaluated as true or false\n",
      "\n",
      "dictionary: \n",
      "    collection of key-value pairs\n",
      "\n"
     ]
    }
   ],
   "source": [
    "# 6-3 Glossary\n",
    "glossary = {'list': 'collection of items in a particular order', \n",
    "            'variable': 'labels connected to a value, which is the information associated with that label', \n",
    "            'string': 'series of characters',\n",
    "            'conditional test': 'an expression that can be evaluated as true or false',\n",
    "            'dictionary': 'collection of key-value pairs',\n",
    "            }\n",
    "\n",
    "print('list: \\n    ' + glossary['list'] + '\\n')\n",
    "print('variable: \\n    ' + glossary['variable'] + '\\n')\n",
    "print('string: \\n    ' + glossary['string'] + '\\n')\n",
    "print('conditional test: \\n    ' + glossary['conditional test'] + '\\n')\n",
    "print('dictionary: \\n    ' + glossary['dictionary'] + '\\n')\n"
   ]
  },
  {
   "cell_type": "code",
   "execution_count": 28,
   "metadata": {},
   "outputs": [
    {
     "name": "stdout",
     "output_type": "stream",
     "text": [
      "list: \n",
      "    collection of items in a particular order\n",
      "\n",
      "variable: \n",
      "    labels connected to a value, which is the information associated with that label\n",
      "\n",
      "string: \n",
      "    series of characters\n",
      "\n",
      "conditional test: \n",
      "    an expression that can be evaluated as true or false\n",
      "\n",
      "dictionary: \n",
      "    collection of key-value pairs\n",
      "\n",
      "floats: \n",
      "    any number with a decimal point\n",
      "\n",
      "constant: \n",
      "    a variable whose value stays the same throughout the life of a program\n",
      "\n",
      "comments: \n",
      "    notes in English within your program\n",
      "\n",
      "append: \n",
      "    when adding a new element to a list\n",
      "\n",
      "pop: \n",
      "    removing the last item in a list, but lets you work with that item after removing it\n",
      "\n",
      "list: \n",
      "    collection of items in a particular order\n",
      "\n",
      "variable: \n",
      "    labels connected to a value, which is the information associated with that label\n",
      "\n",
      "string: \n",
      "    series of characters\n",
      "\n",
      "conditional test: \n",
      "    an expression that can be evaluated as true or false\n",
      "\n",
      "dictionary: \n",
      "    collection of key-value pairs\n",
      "\n",
      "floats: \n",
      "    any number with a decimal point\n",
      "\n",
      "constant: \n",
      "    a variable whose value stays the same throughout the life of a program\n",
      "\n",
      "comments: \n",
      "    notes in English within your program\n",
      "\n",
      "append: \n",
      "    when adding a new element to a list\n",
      "\n",
      "pop: \n",
      "    removing the last item in a list, but lets you work with that item after removing it\n",
      "\n"
     ]
    }
   ],
   "source": [
    "for word in glossary: \n",
    "    print(word + \": \\n    \" + glossary[word] + '\\n')\n",
    "\n",
    "glossary['floats'] = 'any number with a decimal point'\n",
    "glossary['constant'] = 'a variable whose value stays the same throughout the life of a program'\n",
    "glossary['comments'] = 'notes in English within your program'\n",
    "glossary['append'] = 'when adding a new element to a list'\n",
    "glossary['pop'] = 'removing the last item in a list, but lets you work with that item after removing it'\n",
    "\n",
    "for word in glossary: \n",
    "    print(word + \": \\n    \" + glossary[word] + '\\n')"
   ]
  },
  {
   "cell_type": "code",
   "execution_count": 33,
   "metadata": {},
   "outputs": [
    {
     "name": "stdout",
     "output_type": "stream",
     "text": [
      "The Nile runs through Egypt\n",
      "The Amazon runs through Peru\n",
      "The Yangtze runs through China\n",
      "Rivers in the dictionary: \n",
      "Nile\n",
      "Amazon\n",
      "Yangtze\n",
      "Countries of the major rivers: \n",
      "Egypt\n",
      "Peru\n",
      "China\n"
     ]
    }
   ],
   "source": [
    "# 6-5 Rivers\n",
    "major_rivers = {'nile': 'egypt', 'amazon': 'peru', 'yangtze': 'china'}\n",
    "\n",
    "for river in major_rivers: \n",
    "    print(\"The \" + river.title() + ' runs through ' + major_rivers[river].title())\n",
    "\n",
    "print('Rivers in the dictionary: ')\n",
    "for river in major_rivers:\n",
    "    print(river.title())\n",
    "\n",
    "print('Countries of the major rivers: ')\n",
    "for river in major_rivers:\n",
    "    print(major_rivers[river].title())"
   ]
  },
  {
   "cell_type": "code",
   "execution_count": 38,
   "metadata": {},
   "outputs": [
    {
     "name": "stdout",
     "output_type": "stream",
     "text": [
      "Max Jeon is 25 and lives in New York City\n",
      "Ashley Jeon is 20 and lives in Somerville\n",
      "Rebekah Kim is 20 and lives in Durham\n"
     ]
    }
   ],
   "source": [
    "# 6-7 People\n",
    "person1 = {'first_name': 'Max', 'last_name': 'Jeon', 'age': '25', 'city': 'New York City'}\n",
    "person2 = {'first_name': 'Ashley', 'last_name': 'Jeon', 'age': '20', 'city': 'Somerville'}\n",
    "person3 = {'first_name': 'Rebekah', 'last_name': 'Kim', 'age': '20', 'city': 'Durham'}\n",
    "\n",
    "people = [person1, person2, person3]\n",
    "\n",
    "for person in people: \n",
    "    print(person['first_name'] + ' ' + person['last_name'] + ' is ' + person['age'] + ' and lives in ' + person['city'])\n"
   ]
  },
  {
   "cell_type": "code",
   "execution_count": 43,
   "metadata": {},
   "outputs": [
    {
     "name": "stdout",
     "output_type": "stream",
     "text": [
      "The pet is corgi and their owner name is George\n",
      "The pet is poodle and their owner name is Frederick\n",
      "The pet is golden retriever and their owner name is Lorelai\n",
      "The pet is pomeranian and their owner name is Alexander\n"
     ]
    }
   ],
   "source": [
    "# 6-8 Pets\n",
    "pet1 = {'animal': 'corgi', 'owner_name': 'George'}\n",
    "pet2 = {'animal': 'poodle', 'owner_name': 'Frederick'}\n",
    "pet3 = {'animal': 'golden retriever', 'owner_name': 'Lorelai'}\n",
    "pet4 = {'animal': 'pomeranian', 'owner_name': 'Alexander'}\n",
    "\n",
    "pets = [pet1, pet2, pet3, pet4]\n",
    "\n",
    "for pet in pets: \n",
    "    print('The pet is ' + pet['animal'] + ' and their owner name is ' + pet['owner_name'])"
   ]
  },
  {
   "cell_type": "code",
   "execution_count": 57,
   "metadata": {},
   "outputs": [
    {
     "name": "stdout",
     "output_type": "stream",
     "text": [
      "Ashley's favorite places are: \n",
      "    Hawaii\n",
      "    Alaska\n",
      "    New York\n",
      "Jennifer's favorite places are: \n",
      "    England\n",
      "    France\n",
      "    Italy\n",
      "Richard's favorite places are: \n",
      "    Greece\n",
      "    Cancun\n",
      "    Korea\n"
     ]
    }
   ],
   "source": [
    "# 6-9 Favorite Places\n",
    "favorite_places = {'Ashley': ['Hawaii', 'Alaska', 'New York'],\n",
    "                   'Jennifer': ['England', 'France', 'Italy'],\n",
    "                   'Richard': ['Greece', 'Cancun', 'Korea']\n",
    "                   }\n",
    "\n",
    "for key, value in favorite_places.items():\n",
    "    print(key + \"'s favorite places are: \")\n",
    "    for place in value: \n",
    "        print(f'    {place}')"
   ]
  },
  {
   "cell_type": "code",
   "execution_count": 78,
   "metadata": {},
   "outputs": [
    {
     "name": "stdout",
     "output_type": "stream",
     "text": [
      "Greensboro is in the USA, the population is 298000, and a fact is: third-largest city in North Carolina\n",
      "Charlotte is in the USA, the population is 880000, and a fact is: city was named after a Queen\n",
      "Raleigh is in the USA, the population is 470000, and a fact is: is the city capital of North Carolina\n"
     ]
    }
   ],
   "source": [
    "# 6-11 Cities\n",
    "cities = {'greensboro': {\n",
    "                'country': 'USA', 'population': 298000, 'fact': 'third-largest city in North Carolina'\n",
    "                },\n",
    "          'charlotte': {\n",
    "                'country': 'USA', 'population': 880000, 'fact': 'city was named after a Queen'\n",
    "                 },\n",
    "          'raleigh': {\n",
    "                'country': 'USA', 'population': 470000, 'fact': 'is the city capital of North Carolina'\n",
    "                }\n",
    "          }\n",
    "\n",
    "for key, value in cities.items(): \n",
    "    print(key.title() + ' is in the ' + value['country'] + ', the population is ' + str(value['population']) + ', and a fact is: ' + value['fact'])"
   ]
  }
 ],
 "metadata": {
  "interpreter": {
   "hash": "31f2aee4e71d21fbe5cf8b01ff0e069b9275f58929596ceb00d14d90e3e16cd6"
  },
  "kernelspec": {
   "display_name": "Python 3.9.6 64-bit",
   "language": "python",
   "name": "python3"
  },
  "language_info": {
   "codemirror_mode": {
    "name": "ipython",
    "version": 3
   },
   "file_extension": ".py",
   "mimetype": "text/x-python",
   "name": "python",
   "nbconvert_exporter": "python",
   "pygments_lexer": "ipython3",
   "version": "3.9.6"
  },
  "orig_nbformat": 4
 },
 "nbformat": 4,
 "nbformat_minor": 2
}
