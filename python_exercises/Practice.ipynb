{
 "cells": [
  {
   "cell_type": "markdown",
   "id": "ca9f4d9d",
   "metadata": {},
   "source": [
    "This is my first jupyter notebook "
   ]
  },
  {
   "cell_type": "markdown",
   "id": "7fcba2ec",
   "metadata": {},
   "source": [
    "# Heading 1"
   ]
  },
  {
   "cell_type": "markdown",
   "id": "fe306529",
   "metadata": {},
   "source": [
    "## Heading 2"
   ]
  },
  {
   "cell_type": "code",
   "execution_count": 2,
   "id": "0fabcc9e",
   "metadata": {},
   "outputs": [
    {
     "name": "stdout",
     "output_type": "stream",
     "text": [
      "Hello World\n"
     ]
    }
   ],
   "source": [
    "print(\"Hello World!\")"
   ]
  },
  {
   "cell_type": "markdown",
   "id": "8b5fb82a",
   "metadata": {},
   "source": [
    "## Variables"
   ]
  },
  {
   "cell_type": "code",
   "execution_count": 4,
   "id": "2f220817",
   "metadata": {},
   "outputs": [],
   "source": [
    "greeting = \"Hello World!\""
   ]
  },
  {
   "cell_type": "code",
   "execution_count": 5,
   "id": "89391f50",
   "metadata": {},
   "outputs": [
    {
     "name": "stdout",
     "output_type": "stream",
     "text": [
      "Hello World!\n"
     ]
    }
   ],
   "source": [
    "print(greeting)"
   ]
  },
  {
   "cell_type": "code",
   "execution_count": 6,
   "id": "8158f58b",
   "metadata": {},
   "outputs": [
    {
     "ename": "NameError",
     "evalue": "name 'greating' is not defined",
     "output_type": "error",
     "traceback": [
      "\u001b[0;31m---------------------------------------------------------------------------\u001b[0m",
      "\u001b[0;31mNameError\u001b[0m                                 Traceback (most recent call last)",
      "Cell \u001b[0;32mIn[6], line 1\u001b[0m\n\u001b[0;32m----> 1\u001b[0m \u001b[38;5;28mprint\u001b[39m(\u001b[43mgreating\u001b[49m)\n",
      "\u001b[0;31mNameError\u001b[0m: name 'greating' is not defined"
     ]
    }
   ],
   "source": [
    "print(greating)"
   ]
  },
  {
   "cell_type": "code",
   "execution_count": 7,
   "id": "a266378d",
   "metadata": {},
   "outputs": [],
   "source": [
    "greeting = \"Goodbye World!\""
   ]
  },
  {
   "cell_type": "code",
   "execution_count": 8,
   "id": "02003be4",
   "metadata": {},
   "outputs": [
    {
     "name": "stdout",
     "output_type": "stream",
     "text": [
      "Goodbye World!\n"
     ]
    }
   ],
   "source": [
    "print(greeting)"
   ]
  },
  {
   "cell_type": "markdown",
   "id": "eb929fe2",
   "metadata": {},
   "source": [
    "## String"
   ]
  },
  {
   "cell_type": "code",
   "execution_count": 9,
   "id": "71600143",
   "metadata": {},
   "outputs": [
    {
     "name": "stdout",
     "output_type": "stream",
     "text": [
      "This is a string.\n"
     ]
    }
   ],
   "source": [
    "example_1 = \"This is a string.\"\n",
    "print(example_1)"
   ]
  },
  {
   "cell_type": "code",
   "execution_count": 11,
   "id": "14d2d893",
   "metadata": {},
   "outputs": [
    {
     "name": "stdout",
     "output_type": "stream",
     "text": [
      "This is also a string.\n"
     ]
    }
   ],
   "source": [
    "example_2 = 'This is also a string.'\n",
    "print(example_2)"
   ]
  },
  {
   "cell_type": "code",
   "execution_count": 12,
   "id": "4bf30929",
   "metadata": {},
   "outputs": [
    {
     "ename": "SyntaxError",
     "evalue": "invalid syntax (1110010307.py, line 1)",
     "output_type": "error",
     "traceback": [
      "\u001b[0;36m  Cell \u001b[0;32mIn[12], line 1\u001b[0;36m\u001b[0m\n\u001b[0;31m    example_3 = \"I asked the question, \"When should I use double quotes?\"\"\u001b[0m\n\u001b[0m                                        ^\u001b[0m\n\u001b[0;31mSyntaxError\u001b[0m\u001b[0;31m:\u001b[0m invalid syntax\n"
     ]
    }
   ],
   "source": [
    "example_3 = \"I asked the question, \"When should I use double quotes?\"\"\n",
    "print(example_3)"
   ]
  },
  {
   "cell_type": "code",
   "execution_count": 13,
   "id": "9b3769dd",
   "metadata": {},
   "outputs": [
    {
     "name": "stdout",
     "output_type": "stream",
     "text": [
      "I asked the question, \"When should I use double quotes?\"\n"
     ]
    }
   ],
   "source": [
    "example_4 = 'I asked the question, \"When should I use double quotes?\"'\n",
    "print(example_4)"
   ]
  },
  {
   "cell_type": "code",
   "execution_count": 14,
   "id": "54195684",
   "metadata": {},
   "outputs": [],
   "source": [
    "historian = \"edward gibbon\""
   ]
  },
  {
   "cell_type": "code",
   "execution_count": 15,
   "id": "5d908c39",
   "metadata": {},
   "outputs": [
    {
     "name": "stdout",
     "output_type": "stream",
     "text": [
      "edward gibbon\n"
     ]
    }
   ],
   "source": [
    "print(historian)"
   ]
  },
  {
   "cell_type": "code",
   "execution_count": 16,
   "id": "3e672beb",
   "metadata": {},
   "outputs": [
    {
     "name": "stdout",
     "output_type": "stream",
     "text": [
      "Edward Gibbon\n"
     ]
    }
   ],
   "source": [
    "print(historian.title())"
   ]
  },
  {
   "cell_type": "code",
   "execution_count": 17,
   "id": "72479d3b",
   "metadata": {},
   "outputs": [],
   "source": [
    "novelist = \"Becky Chambers\""
   ]
  },
  {
   "cell_type": "code",
   "execution_count": 19,
   "id": "d923786c",
   "metadata": {},
   "outputs": [
    {
     "name": "stdout",
     "output_type": "stream",
     "text": [
      "Becky Chambers\n",
      "BECKY CHAMBERS\n",
      "becky chambers\n"
     ]
    },
    {
     "data": {
      "text/plain": [
       "'Becky Chambers'"
      ]
     },
     "execution_count": 19,
     "metadata": {},
     "output_type": "execute_result"
    }
   ],
   "source": [
    "print(novelist)\n",
    "print(novelist.upper())\n",
    "print(novelist.lower())\n",
    "novelist"
   ]
  },
  {
   "cell_type": "code",
   "execution_count": null,
   "id": "981712be",
   "metadata": {},
   "outputs": [],
   "source": []
  }
 ],
 "metadata": {
  "kernelspec": {
   "display_name": "Python 3 (ipykernel)",
   "language": "python",
   "name": "python3"
  },
  "language_info": {
   "codemirror_mode": {
    "name": "ipython",
    "version": 3
   },
   "file_extension": ".py",
   "mimetype": "text/x-python",
   "name": "python",
   "nbconvert_exporter": "python",
   "pygments_lexer": "ipython3",
   "version": "3.9.6"
  }
 },
 "nbformat": 4,
 "nbformat_minor": 5
}
