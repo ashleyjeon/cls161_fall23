{
 "cells": [
  {
   "cell_type": "markdown",
   "metadata": {},
   "source": [
    "# Week 4 Python Crash Course Exercises "
   ]
  },
  {
   "cell_type": "code",
   "execution_count": 3,
   "metadata": {},
   "outputs": [],
   "source": [
    "# Ashley Jeon\n",
    "# Date: 10/02/2023"
   ]
  },
  {
   "cell_type": "markdown",
   "metadata": {},
   "source": [
    "5-1, 5-2, 5-6, 5-7, 5-8, 5-9, 5-10"
   ]
  },
  {
   "cell_type": "code",
   "execution_count": 18,
   "metadata": {},
   "outputs": [
    {
     "name": "stdout",
     "output_type": "stream",
     "text": [
      "Is name == 'Ashley'? I predict True.\n",
      "True\n",
      "Is name == 'Selena'? I predict False.\n",
      "False\n",
      "Ashley Jeon\n",
      "Is the full name == 'Ashley Park'? I predict False.\n",
      "False\n",
      "How about capitalization? Does full name == 'ashley Jeon'? I predict False.\n",
      "False\n",
      "How about another try, does full name == 'Ashley jeon' work? I predict False.\n",
      "False\n",
      "How about all capitalizations? Does full name == 'ASHLEY JEON' work? I predict False.\n",
      "False\n",
      "How about all lowercase? Does full name == 'ashley jeon' work? I predict False.\n",
      "False\n",
      "Is the first letter of full name == 'A'? I predict True.\n",
      "True\n",
      "Is the full name == 'Ashley Jeon'? I predict True.\n",
      "True\n",
      "How about now, does all capitalization full name == 'ASHLEY JEON' work? I predict True.\n",
      "True\n",
      "How about all lowercase? Does full name == 'ashley jeon' work? I predict False.\n",
      "True\n",
      "Is full name back to original 'Ashley Jeon'? I predict True.\n",
      "True\n"
     ]
    }
   ],
   "source": [
    "#5-1 Condiitonal Tests\n",
    "name = 'Ashley'\n",
    "\n",
    "print(\"Is name == 'Ashley'? I predict True.\")\n",
    "print(name == 'Ashley')\n",
    "\n",
    "print(\"Is name == 'Selena'? I predict False.\")\n",
    "print(name == 'Selena')\n",
    "\n",
    "name += ' Jeon'\n",
    "print(name)\n",
    "\n",
    "# False Tests \n",
    "print(\"Is the full name == 'Ashley Park'? I predict False.\")\n",
    "print(name == 'Ashley Park')\n",
    "\n",
    "print(\"How about capitalization? Does full name == 'ashley Jeon'? I predict False.\")\n",
    "print(name == 'ashley Jeon')\n",
    "\n",
    "print(\"How about another try, does full name == 'Ashley jeon' work? I predict False.\")\n",
    "print(name == 'Ashley jeon')\n",
    "\n",
    "print(\"How about all capitalizations? Does full name == 'ASHLEY JEON' work? I predict False.\")\n",
    "print(name == 'ASHLEY JEON')\n",
    "\n",
    "print(\"How about all lowercase? Does full name == 'ashley jeon' work? I predict False.\")\n",
    "print(name == 'ashley jeon')\n",
    "\n",
    "\n",
    "# True Tests\n",
    "print(\"Is the first letter of full name == 'A'? I predict True.\")\n",
    "print(name[0] == 'A')\n",
    "\n",
    "print(\"Is the full name == 'Ashley Jeon'? I predict True.\")\n",
    "print(name == 'Ashley Jeon')\n",
    "\n",
    "name = name.upper()\n",
    "print(\"How about now, does all capitalization full name == 'ASHLEY JEON' work? I predict True.\")\n",
    "print(name == 'ASHLEY JEON')\n",
    "\n",
    "name = name.lower()\n",
    "print(\"How about all lowercase? Does full name == 'ashley jeon' work? I predict False.\")\n",
    "print(name == 'ashley jeon')\n",
    "\n",
    "name = name.title()\n",
    "print(\"Is full name back to original 'Ashley Jeon'? I predict True.\")\n",
    "print(name == 'Ashley Jeon')\n"
   ]
  },
  {
   "cell_type": "code",
   "execution_count": 45,
   "metadata": {},
   "outputs": [
    {
     "name": "stdout",
     "output_type": "stream",
     "text": [
      "Can 'Tufts University' be abbreviated to 'Tufts'? I predict False.\n",
      "False\n",
      "The variable school contains 'Tufts University'. I predict True.\n",
      "True\n",
      "Does using lower() change the original string without assignment? I predict False.\n",
      "False\n",
      "How about now when we use lower() and assign the variable. I predict True.\n",
      "True\n",
      "Is index 3 equal to the value at index 8? I predict True.\n",
      "True\n",
      "Is the value at index 0 equal to index 1? I predict False.\n",
      "False\n",
      "Does the value at index 2 not equal to the value at index 3? I predict True.\n",
      "True\n",
      "Does the value at index 4 not equal to the value at index 6? I predict False.\n",
      "False\n",
      "Is 9 greater than 3 but less than 20? I predict True.\n",
      "True\n",
      "Is 9 greater than 20 but less than 3? I predict False.\n",
      "False\n",
      "Is the value at index 4 greater than or equal to the value at index 6? I predict True.\n",
      "True\n",
      "Is the value at index 1 greater than or equal to index 7? I predict False.\n",
      "False\n",
      "Is the value at index 5 less than or equal to the value at index 4? I predict True.\n",
      "True\n",
      "Is the value at index 9 less than or equal to the value at index 2? I predict False.\n",
      "False\n",
      "Does index 0 contain 'dog' and index 1 contain 'cat'? I predict True.\n",
      "True\n",
      "Does index 2 contain 'horse' and index 3 contain 'giraffe'? I predict False.\n",
      "False\n",
      "Same as above, this works with or though! I predict True.\n",
      "True\n",
      "Does index 5 contain 'bear' or index 6 contain 'dog'? I predict False.\n",
      "False\n",
      "Is 'pig' in animals? I predict False.\n",
      "False! 'pig' is not in the animal list\n",
      "Is 'donkey' in animals? I predict True.\n",
      "True! 'donkey' is in the animal list\n",
      "Does the list have 'chicken'? I predict False.\n",
      "False! 'chicken' is not in the animal list\n",
      "Does the list have 'elephant'? I predict True.\n",
      "True! 'elephant' is in the animal list\n"
     ]
    }
   ],
   "source": [
    "#5-2 More Conditional Tests\n",
    "school = 'Tufts University'\n",
    "mascot = 'Jumbos'\n",
    "\n",
    "# equality and inequality with strings\n",
    "print(\"Can 'Tufts University' be abbreviated to 'Tufts'? I predict False.\")\n",
    "print(school == 'Tufts')\n",
    "\n",
    "print(\"The variable school contains 'Tufts University'. I predict True.\")\n",
    "print(school == 'Tufts University')\n",
    "\n",
    "# using the lower() function\n",
    "print(\"Does using lower() change the original string without assignment? I predict False.\")\n",
    "print(mascot == mascot.lower())\n",
    "\n",
    "mascot = mascot.lower()\n",
    "print(\"How about now when we use lower() and assign the variable. I predict True.\")\n",
    "print(mascot == 'jumbos')\n",
    "\n",
    "# equality\n",
    "numbers = [9, 20, 3, 2, 4, 1, 4, 90, 2, 8]\n",
    "print(\"Is index 3 equal to the value at index 8? I predict True.\")\n",
    "print(numbers[3] == numbers[8])\n",
    "\n",
    "print(\"Is the value at index 0 equal to index 1? I predict False.\")\n",
    "print(numbers[0] == numbers[1])\n",
    "\n",
    "# inequality\n",
    "print(\"Does the value at index 2 not equal to the value at index 3? I predict True.\")\n",
    "print(numbers[2] != numbers[3])\n",
    "\n",
    "print(\"Does the value at index 4 not equal to the value at index 6? I predict False.\")\n",
    "print(numbers[4] != numbers[6])\n",
    "\n",
    "# greater than and less than \n",
    "print(\"Is 9 greater than 3 but less than 20? I predict True.\") \n",
    "print(numbers[0] > numbers[2] and numbers[0] < numbers[1])\n",
    "\n",
    "print(\"Is 9 greater than 20 but less than 3? I predict False.\")\n",
    "print(numbers[0] > numbers[1] and numbers[0] < numbers[2])\n",
    "\n",
    "# greater than or equal to\n",
    "print(\"Is the value at index 4 greater than or equal to the value at index 6? I predict True.\")\n",
    "print(numbers[4] >= numbers[6])\n",
    "\n",
    "print(\"Is the value at index 1 greater than or equal to index 7? I predict False.\")\n",
    "print(numbers[1] >= numbers[7])\n",
    "\n",
    "# less than or equal to\n",
    "print(\"Is the value at index 5 less than or equal to the value at index 4? I predict True.\")\n",
    "print(numbers[5] <= numbers[4])\n",
    "\n",
    "print(\"Is the value at index 9 less than or equal to the value at index 2? I predict False.\")\n",
    "print(numbers[9] <=  numbers[2])\n",
    "\n",
    "# Using and keyword and or keyword\n",
    "animals = ['dog', 'cat', 'horse', 'donkey', 'bear', 'elephant', 'giraffe']\n",
    "\n",
    "print(\"Does index 0 contain 'dog' and index 1 contain 'cat'? I predict True.\")\n",
    "print(animals[0] == 'dog' and animals[1] == 'cat')\n",
    "\n",
    "print(\"Does index 2 contain 'horse' and index 3 contain 'giraffe'? I predict False.\")\n",
    "print(animals[2] == 'horse' and animals[3] == 'giraffe')\n",
    "\n",
    "print(\"Same as above, this works with or though! I predict True.\")\n",
    "print(animals[2] == 'horse' or animals[3] == 'giraffe')\n",
    "\n",
    "print(\"Does index 5 contain 'bear' or index 6 contain 'dog'? I predict False.\")\n",
    "print(animals[5] == 'bear' or animals[6] == 'dog')\n",
    "\n",
    "# whether an item is in a list\n",
    "print(\"Is 'pig' in animals? I predict False.\")\n",
    "if 'pig' in animals:\n",
    "    print(\"True! 'pig' is in the animal list\")\n",
    "else: \n",
    "    print(\"False! 'pig' is not in the animal list\")\n",
    "\n",
    "print(\"Is 'donkey' in animals? I predict True.\")\n",
    "if 'donkey' in animals:\n",
    "    print(\"True! 'donkey' is in the animal list\")\n",
    "else: \n",
    "    print(\"False! 'donkey is not in the animal list\")\n",
    "\n",
    "\n",
    "# whether an item is not in a list\n",
    "find_animal = 'chicken'\n",
    "print(\"Does the list have 'chicken'? I predict False.\")\n",
    "if find_animal not in animals:\n",
    "    print(\"False! 'chicken' is not in the animal list\")\n",
    "\n",
    "find_animal = 'elephant'\n",
    "print(\"Does the list have 'elephant'? I predict True.\")\n",
    "if find_animal not in animals:\n",
    "     print(\"False! 'elephant' is not in the animal list\")\n",
    "else: \n",
    "    print(\"True! 'elephant' is in the animal list\")"
   ]
  },
  {
   "cell_type": "code",
   "execution_count": 2,
   "metadata": {},
   "outputs": [
    {
     "name": "stdout",
     "output_type": "stream",
     "text": [
      "The person is a kid.\n"
     ]
    }
   ],
   "source": [
    "#5-6 Stages of Life\n",
    "age = 10\n",
    "\n",
    "if(age < 2):\n",
    "    print(\"The person is a baby.\")\n",
    "elif (2 <= age and age < 4):\n",
    "    print(\"The person is a toddler.\")\n",
    "elif(4 <= age and age < 13):\n",
    "    print(\"The person is a kid.\")\n",
    "elif(13 <= age and age < 20):\n",
    "    print(\"The person is a teenager.\")\n",
    "elif(20 <= age and age < 65):\n",
    "    print(\"The person is an adult.\")\n",
    "elif(65 <= age):\n",
    "    print(\"The person is an elder.\")"
   ]
  },
  {
   "cell_type": "code",
   "execution_count": 4,
   "metadata": {},
   "outputs": [
    {
     "name": "stdout",
     "output_type": "stream",
     "text": [
      "You really like apples!\n",
      "You really like watermelon!\n",
      "You really like grapes!\n"
     ]
    }
   ],
   "source": [
    "#5-7 Favorite Fruit\n",
    "favorite_fruits = ['watermelon', 'apple', 'grapes']\n",
    "\n",
    "if 'apple' in favorite_fruits:\n",
    "    print(\"You really like apples!\")\n",
    "\n",
    "if 'pineapple' in favorite_fruits:\n",
    "    print(\"You really like pineapples!\")\n",
    "\n",
    "if 'watermelon' in favorite_fruits:\n",
    "    print(\"You really like watermelon!\")\n",
    "\n",
    "if 'grapes' in favorite_fruits:\n",
    "    print(\"You really like grapes!\")\n",
    "\n",
    "if 'mango' in favorite_fruits:\n",
    "    print(\"You really like mangos!\")\n"
   ]
  },
  {
   "cell_type": "code",
   "execution_count": 6,
   "metadata": {},
   "outputs": [
    {
     "name": "stdout",
     "output_type": "stream",
     "text": [
      "Hello admin, would you like to see a status report?\n",
      "Hello ashleyjeon, thank you for logging in again.\n",
      "Hello ajeon, thank you for logging in again.\n",
      "Hello ashley, thank you for logging in again.\n",
      "Hello ashleyj, thank you for logging in again.\n"
     ]
    }
   ],
   "source": [
    "#5-8 Hello Admin\n",
    "usernames = ['admin', 'ashleyjeon', 'ajeon', 'ashley', 'ashleyj']\n",
    "\n",
    "for user in usernames:\n",
    "    if (user == 'admin'):\n",
    "        print(\"Hello admin, would you like to see a status report?\")\n",
    "    else: \n",
    "        print(\"Hello \" + user + \", thank you for logging in again.\")\n"
   ]
  },
  {
   "cell_type": "code",
   "execution_count": 9,
   "metadata": {},
   "outputs": [
    {
     "name": "stdout",
     "output_type": "stream",
     "text": [
      "We need to find some users!\n"
     ]
    }
   ],
   "source": [
    "#5-9 No Users\n",
    "usernames = ['admin', 'ashleyjeon', 'ajeon', 'ashley', 'ashleyj']\n",
    "usernames.clear()\n",
    "\n",
    "if usernames:\n",
    "    for user in usernames:\n",
    "        if (user == 'admin'):\n",
    "            print(\"Hello admin, would you like to see a status report?\")\n",
    "        else: \n",
    "            print(\"Hello \" + user + \", thank you for logging in again.\")\n",
    "else:\n",
    "    print(\"We need to find some users!\")"
   ]
  },
  {
   "cell_type": "code",
   "execution_count": 10,
   "metadata": {},
   "outputs": [
    {
     "name": "stdout",
     "output_type": "stream",
     "text": [
      "This username is available!\n",
      "This username is available!\n",
      "This username is available!\n",
      "This username is not available. Please enter a new username.\n",
      "This username is not available. Please enter a new username.\n"
     ]
    }
   ],
   "source": [
    "#5-10 Checking Usernames\n",
    "current_users = ['tufts', 'jumbos', 'tuftsuniversity', 'medford', 'somerville']\n",
    "\n",
    "new_users = ['harvard', 'mit', 'northeastern', 'tufts', 'jumbos']\n",
    "\n",
    "for user in new_users:\n",
    "    if user in current_users:\n",
    "        print(\"This username is not available. Please enter a new username.\")\n",
    "    else: \n",
    "        print(\"This username is available!\")"
   ]
  }
 ],
 "metadata": {
  "interpreter": {
   "hash": "0851d9ab756a359d615659073e56978d957691c2fe77d34130bbba8ae277a178"
  },
  "kernelspec": {
   "display_name": "Python 3.11.4 ('base')",
   "language": "python",
   "name": "python3"
  },
  "language_info": {
   "codemirror_mode": {
    "name": "ipython",
    "version": 3
   },
   "file_extension": ".py",
   "mimetype": "text/x-python",
   "name": "python",
   "nbconvert_exporter": "python",
   "pygments_lexer": "ipython3",
   "version": "3.11.4"
  },
  "orig_nbformat": 4
 },
 "nbformat": 4,
 "nbformat_minor": 2
}
