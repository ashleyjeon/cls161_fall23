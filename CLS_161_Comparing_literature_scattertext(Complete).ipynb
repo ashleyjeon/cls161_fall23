{
  "cells": [
    {
      "cell_type": "markdown",
      "metadata": {
        "id": "4X7KOWWNq_De"
      },
      "source": [
        "## Scatter plot with `Scattertext`\n",
        "`scattertext` is \"a tool for finding distinguishing terms in small-to-medium-sized corpora, and presenting them in an interesting, interactive scatter plot with non-overlapping term labels.\" (See the [documentation]( https://github.com/JasonKessler/scattertext).)"
      ]
    },
    {
      "cell_type": "markdown",
      "source": [
        "In this notebook, we are going to compare the works of two 19th century novelists: [Charles Dickens](https://en.wikipedia.org/wiki/Charles_Dickens) and [George Eliot](https://en.wikipedia.org/wiki/George_Eliot) (aka Mary Ann Evans). Such a comparison could be used to address questions about gender when it comes to authorship, or, perhaps, about key differences between novels set in urban vs. rural environments."
      ],
      "metadata": {
        "id": "vJlbzo4twmVx"
      }
    },
    {
      "cell_type": "markdown",
      "source": [
        "## Set up"
      ],
      "metadata": {
        "id": "OLLxLqHQyB58"
      }
    },
    {
      "cell_type": "code",
      "execution_count": null,
      "metadata": {
        "id": "A9AdzsCapOR3"
      },
      "outputs": [],
      "source": [
        "%%capture\n",
        "!pip install scattertext"
      ]
    },
    {
      "cell_type": "code",
      "execution_count": null,
      "metadata": {
        "id": "tI805VNfFXpG"
      },
      "outputs": [],
      "source": [
        "import pandas as pd\n",
        "import scattertext as st\n",
        "from IPython.core.display import HTML"
      ]
    },
    {
      "cell_type": "code",
      "execution_count": null,
      "metadata": {
        "id": "JtGDlTfzGVHI"
      },
      "outputs": [],
      "source": [
        "#load data\n",
        "dickens_url = 'https://raw.githubusercontent.com/msaxton/nlp-data/main/dickens.csv'\n",
        "dickens_df = pd.read_csv(dickens_url)"
      ]
    },
    {
      "cell_type": "code",
      "source": [
        "# sanity check\n",
        "print(dickens_df.shape)\n",
        "dickens_df.sample(5)"
      ],
      "metadata": {
        "id": "PG-Gy9-urJ9-"
      },
      "execution_count": null,
      "outputs": []
    },
    {
      "cell_type": "code",
      "execution_count": null,
      "metadata": {
        "id": "lBaNzJM1Ghn2"
      },
      "outputs": [],
      "source": [
        "#load data\n",
        "eliot_url = 'https://raw.githubusercontent.com/msaxton/nlp-data/main/eliot.csv'\n",
        "eliot_df = pd.read_csv(eliot_url)"
      ]
    },
    {
      "cell_type": "code",
      "source": [
        "# sanity check\n",
        "print(eliot_df.shape)\n",
        "eliot_df.sample(5)"
      ],
      "metadata": {
        "id": "KLHTn0nfrqeH"
      },
      "execution_count": null,
      "outputs": []
    },
    {
      "cell_type": "markdown",
      "source": [
        "## Pre-process data\n",
        "\n",
        "There are a few changes we need to make to our data to get it ready for processing by `Scattertext`.\n",
        "\n",
        "**First**, we are going to get a smaller sample of the data so that we can process things more quickly for our in-class demonstration. If you were to do this as a research project, you might consider using your entire dataset.\n",
        "\n",
        "**Second**, we are going to combine both datasets into one `DataFrame`.\n",
        "\n",
        "**Third**, we are going to drop all the columns from that `DataFrame` except for `author` and `nouns.`"
      ],
      "metadata": {
        "id": "HR79XSeYyHC8"
      }
    },
    {
      "cell_type": "code",
      "source": [
        "# create samples\n",
        "dickens_sample_df = dickens_df.sample(10_000)\n",
        "eliot_sample_df = eliot_df.sample(10_000)"
      ],
      "metadata": {
        "id": "5O3ZesoZsDsF"
      },
      "execution_count": null,
      "outputs": []
    },
    {
      "cell_type": "code",
      "source": [
        "# combine DataFrames\n",
        "df = pd.concat([dickens_sample_df, eliot_sample_df])"
      ],
      "metadata": {
        "id": "OCPA8Nh_qUfc"
      },
      "execution_count": null,
      "outputs": []
    },
    {
      "cell_type": "code",
      "source": [
        "# drop all columns except 'author' and 'nouns'\n",
        "nouns_df = df[['author', 'nouns']]"
      ],
      "metadata": {
        "id": "hddpHd30zbvw"
      },
      "execution_count": null,
      "outputs": []
    },
    {
      "cell_type": "markdown",
      "metadata": {
        "id": "02VeoAYz8AU4"
      },
      "source": [
        "## Build corpus and visualize"
      ]
    },
    {
      "cell_type": "markdown",
      "source": [
        "Now that we have our data in the shape that we need, we can hand it over to `Scattertext` to do the heavy lifting. The code below follows `Scattertext`'s [documentation](https://github.com/JasonKessler/scattertext). We first create a `Scattertext` corpus, then we transform that corpus into an html-based visualization, finally, we display that visualization within our notebook. Note: you can also download the visualization as an html file."
      ],
      "metadata": {
        "id": "oREQ9U6Jzufv"
      }
    },
    {
      "cell_type": "code",
      "execution_count": null,
      "metadata": {
        "id": "6ZknRlziGnhB"
      },
      "outputs": [],
      "source": [
        "# create a scattertext corpus\n",
        "corpus = st.CorpusFromPandas(nouns_df, category_col='author', text_col='nouns').build()"
      ]
    },
    {
      "cell_type": "code",
      "execution_count": null,
      "metadata": {
        "id": "hsDlF_HjG_Pa"
      },
      "outputs": [],
      "source": [
        "# transform corpus into html-based visualization with scattertext\n",
        "html = st.produce_scattertext_explorer(corpus,\n",
        "                                       category='eliot',  # this sets the y-axis\n",
        "                                       category_name='Eliot', # label y-axis\n",
        "                                       not_category_name='Dickens',  # label x-axis\n",
        "                                       minimum_term_frequency=20,\n",
        "                                       width_in_pixels=900)"
      ]
    },
    {
      "cell_type": "code",
      "execution_count": null,
      "metadata": {
        "id": "Wt7TN8HoIq_-"
      },
      "outputs": [],
      "source": [
        "# display visualization in notebook\n",
        "HTML(html)"
      ]
    },
    {
      "cell_type": "code",
      "source": [
        "# Note: You can save this visualization as an html file\n",
        "file_name = 'example.html'\n",
        "with open(file_name, encoding='utf8', mode='w') as f:\n",
        "  f.write(html)"
      ],
      "metadata": {
        "id": "iq0Bj66oxnF-"
      },
      "execution_count": null,
      "outputs": []
    },
    {
      "cell_type": "markdown",
      "source": [
        "## Compare using adjectives\n",
        "\n",
        "We have compared Dickens and Eliot on the basis of the nouns they used. It might also be infomrative to compare them on the basis of the adjectives they used.\n",
        "\n",
        "Starting with our initial datasets, `dickens_df` and `eliot_df`, make a comparison on the adjectives used by these authors using `Scattertext`."
      ],
      "metadata": {
        "id": "IydSBWwr2Msk"
      }
    },
    {
      "cell_type": "code",
      "source": [
        "# create samples\n"
      ],
      "metadata": {
        "id": "IffcDi0I2-9i"
      },
      "execution_count": null,
      "outputs": []
    },
    {
      "cell_type": "code",
      "source": [
        "# combine DataFrames\n"
      ],
      "metadata": {
        "id": "aEIv4RLp3DVI"
      },
      "execution_count": null,
      "outputs": []
    },
    {
      "cell_type": "code",
      "source": [
        "# drop all columns except 'author' and 'adjectives'\n"
      ],
      "metadata": {
        "id": "Zb3v4B283HL1"
      },
      "execution_count": null,
      "outputs": []
    },
    {
      "cell_type": "code",
      "source": [
        "# create a scattertext corpus\n"
      ],
      "metadata": {
        "id": "kvb2M_lx3ppJ"
      },
      "execution_count": null,
      "outputs": []
    },
    {
      "cell_type": "code",
      "source": [
        "# # transform corpus into html-based visualization with scattertext\n"
      ],
      "metadata": {
        "id": "GkEPt-jm3tLb"
      },
      "execution_count": null,
      "outputs": []
    },
    {
      "cell_type": "code",
      "source": [
        "# display visualization in notebook\n"
      ],
      "metadata": {
        "id": "AwIDE5Hj3y_x"
      },
      "execution_count": null,
      "outputs": []
    }
  ],
  "metadata": {
    "colab": {
      "collapsed_sections": [
        "kGYJiD6ipQfC",
        "hWOtO9oZprve",
        "dgEJnyLSpwz9",
        "WB5567kgp_Tk",
        "ChUTf1Sg-_ta",
        "e-i7dGeVHuGb",
        "SAx2b77N5ea-",
        "riSc6Mz51S0i",
        "WzahuHxc2Grr",
        "NevnMsufqP4l",
        "KtdNDaW-rfsy",
        "aq9zlY28srsf",
        "thO47tcYvdyZ",
        "8OvXNkcew0JF",
        "fVCb2Vaox1BL",
        "0gGCtf2_Vva2",
        "7ftN8bCnyI8P",
        "N9Cg7qJ-ymdN",
        "4X7KOWWNq_De",
        "DU-H4lMq7uJc",
        "0i6litFW8FxR",
        "nPuB76N376rf",
        "02VeoAYz8AU4",
        "trBdZx6HZAoH",
        "1NgXhHbi8sMN",
        "O8CxxjmF8wtS",
        "6B31xDCqqswO",
        "zu9wyn_N97ry",
        "rCdVVwyutSa8",
        "t4it1Qic93eB",
        "Le0sVCRS-n7h",
        "Y1ZOpBJF78by",
        "nT1sr2ZzKykW",
        "DFzV3HvTbfkm"
      ],
      "provenance": []
    },
    "kernelspec": {
      "display_name": "Python 3",
      "name": "python3"
    }
  },
  "nbformat": 4,
  "nbformat_minor": 0
}