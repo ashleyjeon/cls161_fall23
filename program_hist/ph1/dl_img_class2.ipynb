{
 "cells": [
  {
   "cell_type": "code",
   "execution_count": 2,
   "metadata": {},
   "outputs": [
    {
     "name": "stderr",
     "output_type": "stream",
     "text": [
      "/var/folders/63/xw1tjdvn7dx4ydllj6wms12r0000gn/T/ipykernel_52248/2995425186.py:5: MatplotlibDeprecationWarning: The seaborn styles shipped by Matplotlib are deprecated since 3.6, as they no longer correspond to the styles shipped by seaborn. However, they will remain available as 'seaborn-v0_8-<style>'. Alternatively, directly use the seaborn API instead.\n",
      "  plt.style.use('seaborn')\n"
     ]
    }
   ],
   "source": [
    "# import libraries\n",
    "import pandas as pd\n",
    "%matplotlib inline\n",
    "import matplotlib.pyplot as plt\n",
    "plt.style.use('seaborn')"
   ]
  },
  {
   "cell_type": "code",
   "execution_count": 4,
   "metadata": {},
   "outputs": [
    {
     "data": {
      "text/html": [
       "<div>\n",
       "<style scoped>\n",
       "    .dataframe tbody tr th:only-of-type {\n",
       "        vertical-align: middle;\n",
       "    }\n",
       "\n",
       "    .dataframe tbody tr th {\n",
       "        vertical-align: top;\n",
       "    }\n",
       "\n",
       "    .dataframe thead th {\n",
       "        text-align: right;\n",
       "    }\n",
       "</style>\n",
       "<table border=\"1\" class=\"dataframe\">\n",
       "  <thead>\n",
       "    <tr style=\"text-align: right;\">\n",
       "      <th></th>\n",
       "      <th>download_image_path</th>\n",
       "      <th>label</th>\n",
       "    </tr>\n",
       "  </thead>\n",
       "  <tbody>\n",
       "    <tr>\n",
       "      <th>0</th>\n",
       "      <td>in_hoosier_ver01_data_sn82015679_00202191757_1...</td>\n",
       "      <td>human</td>\n",
       "    </tr>\n",
       "    <tr>\n",
       "      <th>1</th>\n",
       "      <td>dlc_rottweiler_ver01_data_sn83045462_002806555...</td>\n",
       "      <td>human</td>\n",
       "    </tr>\n",
       "    <tr>\n",
       "      <th>2</th>\n",
       "      <td>curiv_joshuaTree_ver01_data_sn85066387_0017503...</td>\n",
       "      <td>human|landscape</td>\n",
       "    </tr>\n",
       "    <tr>\n",
       "      <th>3</th>\n",
       "      <td>curiv_fiddleneck_ver01_data_sn85066408_0027176...</td>\n",
       "      <td>human</td>\n",
       "    </tr>\n",
       "    <tr>\n",
       "      <th>4</th>\n",
       "      <td>me_aroostook_ver01_data_sn84022374_00332895473...</td>\n",
       "      <td>human</td>\n",
       "    </tr>\n",
       "    <tr>\n",
       "      <th>...</th>\n",
       "      <td>...</td>\n",
       "      <td>...</td>\n",
       "    </tr>\n",
       "    <tr>\n",
       "      <th>1995</th>\n",
       "      <td>khi_corbett_ver01_data_sn82016014_00295870278_...</td>\n",
       "      <td>animal</td>\n",
       "    </tr>\n",
       "    <tr>\n",
       "      <th>1996</th>\n",
       "      <td>kyu_casablanca_ver01_data_sn86069457_002065332...</td>\n",
       "      <td>human</td>\n",
       "    </tr>\n",
       "    <tr>\n",
       "      <th>1997</th>\n",
       "      <td>idhi_angkor_ver01_data_sn86091084_00279550845_...</td>\n",
       "      <td>human</td>\n",
       "    </tr>\n",
       "    <tr>\n",
       "      <th>1998</th>\n",
       "      <td>txdn_infiniti_ver03_data_sn88083938_0020029426...</td>\n",
       "      <td>human-structure</td>\n",
       "    </tr>\n",
       "    <tr>\n",
       "      <th>1999</th>\n",
       "      <td>iune_folio_ver01_data_sn92053934_00212471902_1...</td>\n",
       "      <td>human-structure</td>\n",
       "    </tr>\n",
       "  </tbody>\n",
       "</table>\n",
       "<p>2000 rows × 2 columns</p>\n",
       "</div>"
      ],
      "text/plain": [
       "                                    download_image_path            label\n",
       "0     in_hoosier_ver01_data_sn82015679_00202191757_1...            human\n",
       "1     dlc_rottweiler_ver01_data_sn83045462_002806555...            human\n",
       "2     curiv_joshuaTree_ver01_data_sn85066387_0017503...  human|landscape\n",
       "3     curiv_fiddleneck_ver01_data_sn85066408_0027176...            human\n",
       "4     me_aroostook_ver01_data_sn84022374_00332895473...            human\n",
       "...                                                 ...              ...\n",
       "1995  khi_corbett_ver01_data_sn82016014_00295870278_...           animal\n",
       "1996  kyu_casablanca_ver01_data_sn86069457_002065332...            human\n",
       "1997  idhi_angkor_ver01_data_sn86091084_00279550845_...            human\n",
       "1998  txdn_infiniti_ver03_data_sn88083938_0020029426...  human-structure\n",
       "1999  iune_folio_ver01_data_sn92053934_00212471902_1...  human-structure\n",
       "\n",
       "[2000 rows x 2 columns]"
      ]
     },
     "execution_count": 4,
     "metadata": {},
     "output_type": "execute_result"
    }
   ],
   "source": [
    "df = pd.read_csv('photos_multi/photos_multi/multi_label.csv', na_filter=False)\n",
    "df"
   ]
  },
  {
   "cell_type": "code",
   "execution_count": 5,
   "metadata": {},
   "outputs": [
    {
     "data": {
      "text/plain": [
       "label\n",
       "human                                     1371\n",
       "human-structure                            142\n",
       "human|human-structure                      104\n",
       "landscape                                   83\n",
       "                                            80\n",
       "human-structure|landscape                   69\n",
       "human|landscape                             48\n",
       "human|human-structure|landscape             28\n",
       "human|animal                                24\n",
       "animal                                      20\n",
       "human|animal|landscape                      11\n",
       "human|animal|human-structure                 9\n",
       "animal|human-structure                       4\n",
       "human|animal|human-structure|landscape       3\n",
       "animal|landscape                             3\n",
       "animal|human-structure|landscape             1\n",
       "Name: count, dtype: int64"
      ]
     },
     "execution_count": 5,
     "metadata": {},
     "output_type": "execute_result"
    }
   ],
   "source": [
    "# counting the number of labels\n",
    "df['label'].value_counts()"
   ]
  },
  {
   "cell_type": "code",
   "execution_count": 6,
   "metadata": {},
   "outputs": [
    {
     "data": {
      "text/plain": [
       "['human', 'human', 'human|landscape', 'human', 'human', 'human']"
      ]
     },
     "execution_count": 6,
     "metadata": {},
     "output_type": "execute_result"
    }
   ],
   "source": [
    "labels = df['label'].to_list()\n",
    "labels[:6]"
   ]
  },
  {
   "cell_type": "code",
   "execution_count": 8,
   "metadata": {},
   "outputs": [
    {
     "data": {
      "text/plain": [
       "[['human'], ['human'], ['human', 'landscape'], ['human']]"
      ]
     },
     "execution_count": 8,
     "metadata": {},
     "output_type": "execute_result"
    }
   ],
   "source": [
    "split_labels = [label.split(\"|\") for label in labels]\n",
    "split_labels[:4]"
   ]
  },
  {
   "cell_type": "code",
   "execution_count": 11,
   "metadata": {},
   "outputs": [
    {
     "data": {
      "text/plain": [
       "['human', 'human', 'human', 'landscape']"
      ]
     },
     "execution_count": 11,
     "metadata": {},
     "output_type": "execute_result"
    }
   ],
   "source": [
    "labels = [label for sublist in split_labels for label in sublist]\n",
    "labels[:4]"
   ]
  },
  {
   "cell_type": "code",
   "execution_count": 16,
   "metadata": {},
   "outputs": [
    {
     "data": {
      "text/plain": [
       "Counter({'human': 1598,\n",
       "         'human-structure': 360,\n",
       "         'landscape': 246,\n",
       "         '': 80,\n",
       "         'animal': 75})"
      ]
     },
     "execution_count": 16,
     "metadata": {},
     "output_type": "execute_result"
    }
   ],
   "source": [
    "from collections import Counter\n",
    "label_freqs = Counter(labels)\n",
    "label_freqs"
   ]
  },
  {
   "cell_type": "code",
   "execution_count": 17,
   "metadata": {},
   "outputs": [
    {
     "data": {
      "text/plain": [
       "2359"
      ]
     },
     "execution_count": 17,
     "metadata": {},
     "output_type": "execute_result"
    }
   ],
   "source": [
    "# how many total labels we have in this dataset\n",
    "sum(label_freqs.values())"
   ]
  },
  {
   "cell_type": "code",
   "execution_count": 18,
   "metadata": {},
   "outputs": [
    {
     "data": {
      "image/png": "[encoded data removed]",
      "text/plain": [
       "<Figure size 800x550 with 1 Axes>"
      ]
     },
     "metadata": {},
     "output_type": "display_data"
    }
   ],
   "source": [
    "import matplotlib.pyplot as plt\n",
    "\n",
    "plt.bar(\n",
    "    label_freqs.keys(), # pass in our labels\n",
    "    list(map(lambda x: x / sum(label_freqs.values()), label_freqs.values())),  # normalised values\n",
    ")\n",
    "\n",
    "# add a title to the plot\n",
    "plt.title(\"Label Frequencies\")\n",
    "\n",
    "# add a y-axis label\n",
    "plt.ylabel(\"Percentage of Total Labels\")\n",
    "plt.show() # show the plot\n"
   ]
  },
  {
   "cell_type": "code",
   "execution_count": 19,
   "metadata": {},
   "outputs": [
    {
     "name": "stderr",
     "output_type": "stream",
     "text": [
      "/Users/ashleyjeon/Library/Python/3.9/lib/python/site-packages/urllib3/__init__.py:34: NotOpenSSLWarning: urllib3 v2.0 only supports OpenSSL 1.1.1+, currently the 'ssl' module is compiled with 'LibreSSL 2.8.3'. See: https://github.com/urllib3/urllib3/issues/3020\n",
      "  warnings.warn(\n"
     ]
    }
   ],
   "source": [
    "from fastai.vision.all import *"
   ]
  },
  {
   "cell_type": "code",
   "execution_count": 20,
   "metadata": {},
   "outputs": [
    {
     "data": {
      "text/plain": [
       "Index(['download_image_path', 'label'], dtype='object')"
      ]
     },
     "execution_count": 20,
     "metadata": {},
     "output_type": "execute_result"
    }
   ],
   "source": [
    "df.columns"
   ]
  },
  {
   "cell_type": "code",
   "execution_count": 25,
   "metadata": {},
   "outputs": [],
   "source": [
    "# Prepares our input data and labels to a form that can be used as input for a CVM\n",
    "photo_data = ImageDataLoaders.from_df(\n",
    "    df, # the dataframe where our labels and image file paths are stored\n",
    "    folder = 'photos_multi/photos_multi/photo_images', # the path to the directory holding the images\n",
    "    bs=32, # the batch size (number of images + labels)\n",
    "    label_delim=\"|\", # the deliminator between each label in our label column\n",
    "    item_tfms=Resize(224), # resize each image to 224z224\n",
    "    valid_pct=0.3, # use 30% of the data as validation data\n",
    "    seed=42 # set a seed to make results more reproducible\n",
    ")"
   ]
  },
  {
   "cell_type": "code",
   "execution_count": 26,
   "metadata": {},
   "outputs": [
    {
     "data": {
      "text/plain": [
       "<fastai.data.core.DataLoaders at 0x162d3f5b0>"
      ]
     },
     "execution_count": 26,
     "metadata": {},
     "output_type": "execute_result"
    }
   ],
   "source": [
    "photo_data"
   ]
  },
  {
   "cell_type": "code",
   "execution_count": 27,
   "metadata": {},
   "outputs": [],
   "source": [
    "photo_data.show_batch(figsize=(15,15))"
   ]
  }
 ],
 "metadata": {
  "interpreter": {
   "hash": "31f2aee4e71d21fbe5cf8b01ff0e069b9275f58929596ceb00d14d90e3e16cd6"
  },
  "kernelspec": {
   "display_name": "Python 3.9.6 64-bit",
   "language": "python",
   "name": "python3"
  },
  "language_info": {
   "codemirror_mode": {
    "name": "ipython",
    "version": 3
   },
   "file_extension": ".py",
   "mimetype": "text/x-python",
   "name": "python",
   "nbconvert_exporter": "python",
   "pygments_lexer": "ipython3",
   "version": "3.9.6"
  },
  "orig_nbformat": 4
 },
 "nbformat": 4,
 "nbformat_minor": 2
}
