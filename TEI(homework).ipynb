{
  "cells": [
    {
      "cell_type": "markdown",
      "metadata": {
        "id": "VbIn_1X8qeYs"
      },
      "source": [
        "# Parsing a TEI Document - Homework"
      ]
    },
    {
      "cell_type": "markdown",
      "metadata": {
        "id": "nY5ryOZ4qxFv"
      },
      "source": [
        "## Directions\n",
        "\n",
        "Parse the tei of Gibbon's _Decline and Fall_ to extract all the **marginal notes**. (XML file provided)\n",
        "1. Extract all marginal notes\n",
        "2. Remove extraneous whitespace\n",
        "3. Place marginal notes in a dataframe\n",
        "4. Save teh dataframe as a csv file\n"
      ]
    },
    {
      "cell_type": "markdown",
      "metadata": {
        "id": "NbEOJNWP09gl"
      },
      "source": [
        "## Hint\n",
        "\n",
        "Here is a snippet of what a marginal note in the xml document looks like:\n",
        "\n",
        "`<note place=\"margin\">A. D. 268. March 20. Death of Gallienus.</note>`\n",
        "\n",
        "These are different from the footnotes that we saw in class in that (a) they do not have numbers and (b) the white space is different. You are free to accomodate for that however you would like."
      ]
    },
    {
      "cell_type": "markdown",
      "metadata": {
        "id": "ZqVqsq7Tv0ck"
      },
      "source": [
        "### Set up"
      ]
    },
    {
      "cell_type": "code",
      "execution_count": 33,
      "metadata": {
        "id": "ax5j3yg4rUfB"
      },
      "outputs": [
        {
          "name": "stdout",
          "output_type": "stream",
          "text": [
            "Defaulting to user installation because normal site-packages is not writeable\n",
            "\u001b[31mERROR: Could not find a version that satisfies the requirement beatifulsoup4 (from versions: none)\u001b[0m\u001b[31m\n",
            "\u001b[0m\u001b[31mERROR: No matching distribution found for beatifulsoup4\u001b[0m\u001b[31m\n",
            "\u001b[0m\u001b[33mWARNING: There was an error checking the latest version of pip.\u001b[0m\u001b[33m\n",
            "\u001b[0m"
          ]
        }
      ],
      "source": [
        "! pip3 install beatifulsoup4"
      ]
    },
    {
      "cell_type": "code",
      "execution_count": 34,
      "metadata": {
        "id": "B2P2mAYSqRbQ"
      },
      "outputs": [],
      "source": [
        "from bs4 import BeautifulSoup\n",
        "import requests\n",
        "import pandas as pd"
      ]
    },
    {
      "cell_type": "code",
      "execution_count": 35,
      "metadata": {
        "id": "pVItKZ2GrBur"
      },
      "outputs": [],
      "source": [
        "# load xml file\n",
        "url = \"https://raw.githubusercontent.com/msaxton/nlp-data/main/gibbon.xml\"\n",
        "response = requests.get(url)\n",
        "xml_str = response.text"
      ]
    },
    {
      "cell_type": "markdown",
      "metadata": {
        "id": "hVe0pze-v36X"
      },
      "source": [
        "### Parse TEI"
      ]
    },
    {
      "cell_type": "code",
      "execution_count": 36,
      "metadata": {
        "id": "UzS5qa_Y96h2"
      },
      "outputs": [],
      "source": [
        "# use BeautifulSoup to creat an xml object\n",
        "xml = BeautifulSoup(xml_str)"
      ]
    },
    {
      "cell_type": "code",
      "execution_count": 37,
      "metadata": {
        "id": "R6EMEBs5-dUn"
      },
      "outputs": [
        {
          "data": {
            "text/plain": [
              "<note place=\"margin\">\n",
              "                        Aureolus invades Italy, is defeated and be\n",
              "                        <g ref=\"char:EOLhyphen\"></g>\n",
              "                        ſieged at Milan.\n",
              "                    </note>"
            ]
          },
          "execution_count": 37,
          "metadata": {},
          "output_type": "execute_result"
        }
      ],
      "source": [
        "# find all footnotes\n",
        "margin_notes = xml.find_all('note', attrs={'place': 'margin'})\n",
        "margin_notes[0]"
      ]
    },
    {
      "cell_type": "code",
      "execution_count": 38,
      "metadata": {
        "id": "eMr8NOYtrADL"
      },
      "outputs": [],
      "source": [
        "# remove extra space (if needed)\n",
        "def remove_extra_space(text):\n",
        "    text = text.replace('\\n', '')\n",
        "    text = text.replace('  ', '')\n",
        "    return text"
      ]
    },
    {
      "cell_type": "code",
      "execution_count": 39,
      "metadata": {
        "id": "wK7f7hBmsZdl"
      },
      "outputs": [
        {
          "data": {
            "text/plain": [
              "{'number': 'margin_note 1',\n",
              " 'text': 'Aureolus invades Italy, is defeated and beſieged at Milan.'}"
            ]
          },
          "execution_count": 39,
          "metadata": {},
          "output_type": "execute_result"
        }
      ],
      "source": [
        "# prepare data for dataframe\n",
        "processed_margin_notes = []\n",
        "i = 1\n",
        "for margin_note in margin_notes:\n",
        "    d = {}\n",
        "    margin_num = f'margin_note {str(i)}'\n",
        "    margin_text = remove_extra_space(margin_note.text)\n",
        "    d[\"number\"] = margin_num\n",
        "    d[\"text\"] = margin_text\n",
        "    processed_margin_notes.append(d)\n",
        "    i += 1\n",
        "\n",
        "# sanity check\n",
        "processed_margin_notes[0]"
      ]
    },
    {
      "cell_type": "code",
      "execution_count": 40,
      "metadata": {
        "id": "OM4Ds7xluW4v"
      },
      "outputs": [
        {
          "data": {
            "text/html": [
              "<div>\n",
              "<style scoped>\n",
              "    .dataframe tbody tr th:only-of-type {\n",
              "        vertical-align: middle;\n",
              "    }\n",
              "\n",
              "    .dataframe tbody tr th {\n",
              "        vertical-align: top;\n",
              "    }\n",
              "\n",
              "    .dataframe thead th {\n",
              "        text-align: right;\n",
              "    }\n",
              "</style>\n",
              "<table border=\"1\" class=\"dataframe\">\n",
              "  <thead>\n",
              "    <tr style=\"text-align: right;\">\n",
              "      <th></th>\n",
              "      <th>number</th>\n",
              "      <th>text</th>\n",
              "    </tr>\n",
              "  </thead>\n",
              "  <tbody>\n",
              "    <tr>\n",
              "      <th>0</th>\n",
              "      <td>margin_note 1</td>\n",
              "      <td>Aureolus invades Italy, is defeated and beſieg...</td>\n",
              "    </tr>\n",
              "    <tr>\n",
              "      <th>1</th>\n",
              "      <td>margin_note 2</td>\n",
              "      <td>A. D. 268.</td>\n",
              "    </tr>\n",
              "    <tr>\n",
              "      <th>2</th>\n",
              "      <td>margin_note 3</td>\n",
              "      <td>A. D. 268. March 20. Death of Gallienus.</td>\n",
              "    </tr>\n",
              "    <tr>\n",
              "      <th>3</th>\n",
              "      <td>margin_note 4</td>\n",
              "      <td>Character and elevation of the emperor Claudius.</td>\n",
              "    </tr>\n",
              "    <tr>\n",
              "      <th>4</th>\n",
              "      <td>margin_note 5</td>\n",
              "      <td>Death of Aureolus.</td>\n",
              "    </tr>\n",
              "  </tbody>\n",
              "</table>\n",
              "</div>"
            ],
            "text/plain": [
              "          number                                               text\n",
              "0  margin_note 1  Aureolus invades Italy, is defeated and beſieg...\n",
              "1  margin_note 2                                         A. D. 268.\n",
              "2  margin_note 3           A. D. 268. March 20. Death of Gallienus.\n",
              "3  margin_note 4   Character and elevation of the emperor Claudius.\n",
              "4  margin_note 5                                 Death of Aureolus."
            ]
          },
          "execution_count": 40,
          "metadata": {},
          "output_type": "execute_result"
        }
      ],
      "source": [
        "# convert to dataframe\n",
        "df = pd.DataFrame.from_dict(processed_margin_notes)\n",
        "df.head()"
      ]
    },
    {
      "cell_type": "code",
      "execution_count": 42,
      "metadata": {
        "id": "FSI4PUQzujoQ"
      },
      "outputs": [],
      "source": [
        "# save dataframe as csv\n",
        "file_name = \"gibbon_margin_notes.csv\"\n",
        "df.to_csv(file_name, index=False)"
      ]
    }
  ],
  "metadata": {
    "colab": {
      "provenance": []
    },
    "interpreter": {
      "hash": "31f2aee4e71d21fbe5cf8b01ff0e069b9275f58929596ceb00d14d90e3e16cd6"
    },
    "kernelspec": {
      "display_name": "Python 3.9.6 64-bit",
      "language": "python",
      "name": "python3"
    },
    "language_info": {
      "codemirror_mode": {
        "name": "ipython",
        "version": 3
      },
      "file_extension": ".py",
      "mimetype": "text/x-python",
      "name": "python",
      "nbconvert_exporter": "python",
      "pygments_lexer": "ipython3",
      "version": "3.9.6"
    }
  },
  "nbformat": 4,
  "nbformat_minor": 0
}
