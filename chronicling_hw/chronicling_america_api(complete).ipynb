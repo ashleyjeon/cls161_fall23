{
  "cells": [
    {
      "cell_type": "markdown",
      "metadata": {
        "id": "lg1_EIHEETuB"
      },
      "source": [
        "# Chronicling America API\n",
        "\n",
        "[Chronicling America](https://chroniclingamerica.loc.gov/) is a collection of digitized American newspapers dating from 1777 to 1963 provided by the Library of Congress. The collection offers an application programming interface (API) which allows users to easily harvest large amounts of data.\n",
        "\n",
        "In this notebook we will search Chronicling America's API, gather the search results into a Pandas dataframe, clean the data, and save it as a csv file."
      ]
    },
    {
      "cell_type": "code",
      "execution_count": 1,
      "metadata": {
        "id": "q0-jsD68ELup"
      },
      "outputs": [
        {
          "name": "stderr",
          "output_type": "stream",
          "text": [
            "/Users/ashleyjeon/Library/Python/3.9/lib/python/site-packages/urllib3/__init__.py:34: NotOpenSSLWarning: urllib3 v2.0 only supports OpenSSL 1.1.1+, currently the 'ssl' module is compiled with 'LibreSSL 2.8.3'. See: https://github.com/urllib3/urllib3/issues/3020\n",
            "  warnings.warn(\n"
          ]
        }
      ],
      "source": [
        "# imports\n",
        "import requests\n",
        "import json\n",
        "import math\n",
        "import pandas as pd\n",
        "import spacy"
      ]
    },
    {
      "cell_type": "markdown",
      "metadata": {
        "id": "XQFGCgdRHpCb"
      },
      "source": [
        "##Chronicling America URLs\n",
        "\n",
        "If I search for a term, \"abolition\" for example, on https://chroniclingamerica.loc.gov/ I will get a results url that looks like this:\n",
        "\n",
        "https://chroniclingamerica.loc.gov/search/pages/results/?state=&date1=1770&date2=1963&proxtext=abolition&x=12&y=18&dateFilterType=yearRange&rows=20&searchType=basic\n",
        "\n",
        "These search results are human actionable, but not machine actionable. Chronicling America as an API that allows me to get machine actionable results if I add `&format=json`:\n",
        "\n",
        "https://chroniclingamerica.loc.gov/search/pages/results/?state=&date1=1770&date2=1963&proxtext=abolition&x=12&y=18&dateFilterType=yearRange&rows=20&searchType=basic&format=json\n",
        "\n",
        "If we examine the url we see that there are a number of search parameters:\n",
        "- `state=`\n",
        "- `date1=1770`\n",
        "- `date2=1963`\n",
        "- `proxtext=abolition`\n",
        "\n",
        "We can edit these values to modify our search. I change the parameters to limit our search:\n",
        "\n",
        "https://chroniclingamerica.loc.gov/search/pages/results/?state=Massachusetts&date1=1770&date2=1865&proxtext=prohibition&x=20&y=8&dateFilterType=yearRange&rows=20&searchType=basic&format=json"
      ]
    },
    {
      "cell_type": "markdown",
      "metadata": {
        "id": "8x69VEy1KCpP"
      },
      "source": [
        "Now I can use the `requests` library to retrieve data from the url."
      ]
    },
    {
      "cell_type": "code",
      "execution_count": 2,
      "metadata": {
        "id": "uoseSCpoEghd"
      },
      "outputs": [],
      "source": [
        "# initial search\n",
        "url = 'https://chroniclingamerica.loc.gov/search/pages/results/?state=New+York&date1=1895&date2=1963&proxtext=Babe+Ruth&x=20&y=8&dateFilterType=yearRange&rows=20&searchType=basic&format=json'\n",
        "response = requests.get(url)\n",
        "raw = response.text\n",
        "results = json.loads(raw)"
      ]
    },
    {
      "cell_type": "markdown",
      "metadata": {
        "id": "g-IV4qxIKlXW"
      },
      "source": [
        "## Explore search results"
      ]
    },
    {
      "cell_type": "code",
      "execution_count": 3,
      "metadata": {
        "id": "Pg-9a2pIKTnO"
      },
      "outputs": [
        {
          "data": {
            "text/plain": [
              "dict_keys(['totalItems', 'endIndex', 'startIndex', 'itemsPerPage', 'items'])"
            ]
          },
          "execution_count": 3,
          "metadata": {},
          "output_type": "execute_result"
        }
      ],
      "source": [
        "results.keys()"
      ]
    },
    {
      "cell_type": "code",
      "execution_count": 4,
      "metadata": {
        "id": "jB1fHVUTEcLl"
      },
      "outputs": [
        {
          "name": "stdout",
          "output_type": "stream",
          "text": [
            "<class 'list'>\n"
          ]
        }
      ],
      "source": [
        "# explore items\n",
        "print(type(results['items']))"
      ]
    },
    {
      "cell_type": "code",
      "execution_count": 5,
      "metadata": {
        "id": "LduCA0d1Etzn"
      },
      "outputs": [
        {
          "name": "stdout",
          "output_type": "stream",
          "text": [
            "{'sequence': 64, 'county': ['New York'], 'edition': None, 'frequency': 'Daily', 'id': '/lccn/sn83030214/1922-07-09/ed-1/seq-64/', 'subject': ['New York (N.Y.)--Newspapers.', 'New York (State)--New York County.--fast--(OCoLC)fst01234953', 'New York (State)--New York.--fast--(OCoLC)fst01204333', 'New York County (N.Y.)--Newspapers.'], 'city': ['New York'], 'date': '19220709', 'title': 'New-York tribune. [volume]', 'end_year': 1924, 'note': ['Also available in digital format on the Library of Congress website.', 'Archived issues are available in digital format as part of the Library of Congress Chronicling America online collection.', 'Available on microfilm from University Microfilms International, and Recordak.', 'Evening ed.: Evening edition of the tribune, 1866.', 'Merged with: New York herald (New York, N.Y. : 1920); to form: New York herald, New York tribune.', 'Semiweekly ed.: New-York tribune (New York, N.Y. : 1866 : Semiweekly), 1866-<1899>.', 'Triweekly eds.: New-York tri-weekly tribune, <1900>-1903, and: New York tribune (New York, N.Y. : 1903), 1903-<1909>.', 'Weekly ed.: New-York tribune (New York, N.Y. : 1866 : Weekly), 1866-<1906>.'], 'state': ['New York'], 'section_label': '', 'type': 'page', 'place_of_publication': 'New York [N.Y.]', 'start_year': 1866, 'edition_label': '', 'publisher': 'New York Tribune', 'language': ['English'], 'alt_title': ['Combined New York morning newspapers', 'Combined New York Sunday newspapers', 'New-York daily tribune'], 'lccn': 'sn83030214', 'country': 'New York', 'ocr_eng': 'Something pretty nifty in fringe for beach wear.\\nRuthie and Bonnie May\\nlove nothing better than\\na good athletic romp oa\\nthe beach. They are\\nhaving suck a spirited\\ngame of catch with a\\nrubber ball. Ruthie ss\\npretending she is Babe\\nRuth and Bonnie May ?\\nmaking believe she ?\\nCarl Mays, so you ca<\\neasiiy see how much -B\\nearnest they are.', 'batch': 'dlc_jones_ver01', 'title_normal': 'new-york tribune.', 'url': 'https://chroniclingamerica.loc.gov/lccn/sn83030214/1922-07-09/ed-1/seq-64.json', 'place': ['New York--New York--New York'], 'page': '2'}\n"
          ]
        }
      ],
      "source": [
        "print(results['items'][0])"
      ]
    },
    {
      "cell_type": "code",
      "execution_count": 6,
      "metadata": {
        "id": "kIcPNqHuKtJA"
      },
      "outputs": [
        {
          "name": "stdout",
          "output_type": "stream",
          "text": [
            "totalItems: 2871\n",
            "endIndex: 20\n",
            "startIndex: 1\n",
            "itemsPerPage: 20\n",
            "Length and type of items: 20 <class 'list'>\n"
          ]
        }
      ],
      "source": [
        "print('totalItems:', results['totalItems'])\n",
        "print('endIndex:', results['endIndex'])\n",
        "print('startIndex:', results['startIndex'])\n",
        "print('itemsPerPage:', results['itemsPerPage'])\n",
        "print('Length and type of items:', len(results['items']), type(results['items']))"
      ]
    },
    {
      "cell_type": "markdown",
      "metadata": {
        "id": "cxWJPQfUK5pA"
      },
      "source": [
        "The Chronicling America API returned 1,656 results. However, it will only display 20 at a time by default. I can add a new parameter `page=` to cycle through all the results, but first I need to know how many pages there will be. I can find this out by dividing `totalItems` (1,656) by `itemsPerPage` (20) and then round-up using `math.ceil`."
      ]
    },
    {
      "cell_type": "code",
      "execution_count": 7,
      "metadata": {
        "id": "OmJIDL1lKy0g"
      },
      "outputs": [
        {
          "name": "stdout",
          "output_type": "stream",
          "text": [
            "144\n"
          ]
        }
      ],
      "source": [
        "# find total amount of pages\n",
        "total_pages = math.ceil(results['totalItems'] / results['itemsPerPage'])\n",
        "print(total_pages)"
      ]
    },
    {
      "cell_type": "markdown",
      "metadata": {
        "id": "-Gca6IQYUEVx"
      },
      "source": [
        "Now that I know how many pages there will be, I can use a for loop to iterate through each result page and then each item on each result page. I then gather the data I want from each item: newspaper title, city, date, and text.\n",
        "\n",
        "Notice in the code below I placed the url string in parentheses () so that I could break it up over multiple lines making it easier to read.\n",
        "\n",
        "Also, for the sake of this demonstration, I am only iterating over 10 pages. For the full results the for loop should begin: `for i in range(1, total_pages+1)` (the `+1` is necessary becase the seond number in the range function is exclusive)."
      ]
    },
    {
      "cell_type": "code",
      "execution_count": 8,
      "metadata": {
        "id": "C0pZe96qBP_J"
      },
      "outputs": [],
      "source": [
        "# create empty list for data\n",
        "data = []"
      ]
    },
    {
      "cell_type": "code",
      "execution_count": 9,
      "metadata": {
        "id": "pg63qYBuBVU3"
      },
      "outputs": [],
      "source": [
        "# set search parameters\n",
        "start_date = '1895'\n",
        "end_date = '1963'\n",
        "search_term = 'Babe+Ruth'\n",
        "state = 'New+York'"
      ]
    },
    {
      "cell_type": "code",
      "execution_count": 10,
      "metadata": {
        "id": "Upp6d0I9UDy6"
      },
      "outputs": [
        {
          "name": "stdout",
          "output_type": "stream",
          "text": [
            "page 1 status code: 200\n",
            "page 2 status code: 200\n",
            "page 3 status code: 200\n",
            "page 4 status code: 200\n",
            "page 5 status code: 200\n",
            "page 6 status code: 200\n",
            "page 7 status code: 200\n",
            "page 8 status code: 200\n",
            "page 9 status code: 200\n",
            "page 10 status code: 200\n"
          ]
        }
      ],
      "source": [
        "# loop through search results and collect data\n",
        "for i in range(1, 11):  # for sake of time I'm doing only 10, you will want to put total_pages+1\n",
        "    url = (f'https://chroniclingamerica.loc.gov/search/pages/results/?state={state}&date1={start_date}'\n",
        "           f'&date2={end_date}&proxtext={search_term}&x=16&y=8&dateFilterType=yearRange&rows=20'\n",
        "           f'&searchType=basic&format=json&page={i}')  # f-string\n",
        "    response = requests.get(url)\n",
        "    raw = response.text\n",
        "    print(f'page {i} status code:', response.status_code)  # checking for errors\n",
        "    results = json.loads(raw)\n",
        "    items_ = results['items']\n",
        "    for item_ in items_:\n",
        "        row_data = {}\n",
        "        try:\n",
        "          row_data['title'] = item_['title_normal']\n",
        "        except:\n",
        "          row_data['city'] = \"none\"\n",
        "        try:\n",
        "          row_data['city'] = item_['city']\n",
        "        except:\n",
        "          row_data['city'] = \"none\"\n",
        "        try:\n",
        "          row_data['date'] = item_['date']\n",
        "        except:\n",
        "          row_data['date'] = \"none\"\n",
        "        try:\n",
        "          row_data['raw_text'] = item_['ocr_eng']\n",
        "        except:\n",
        "          row_data['raw_text'] = 'none'\n",
        "    data.append(row_data)"
      ]
    },
    {
      "cell_type": "code",
      "execution_count": 11,
      "metadata": {
        "id": "q-ctFdtSBa-u"
      },
      "outputs": [],
      "source": [
        "# put data into DataFrame\n",
        "df = pd.DataFrame.from_dict(data)"
      ]
    },
    {
      "cell_type": "code",
      "execution_count": 12,
      "metadata": {
        "id": "prL29Su_msjb"
      },
      "outputs": [
        {
          "data": {
            "text/html": [
              "<div>\n",
              "<style scoped>\n",
              "    .dataframe tbody tr th:only-of-type {\n",
              "        vertical-align: middle;\n",
              "    }\n",
              "\n",
              "    .dataframe tbody tr th {\n",
              "        vertical-align: top;\n",
              "    }\n",
              "\n",
              "    .dataframe thead th {\n",
              "        text-align: right;\n",
              "    }\n",
              "</style>\n",
              "<table border=\"1\" class=\"dataframe\">\n",
              "  <thead>\n",
              "    <tr style=\"text-align: right;\">\n",
              "      <th></th>\n",
              "      <th>title</th>\n",
              "      <th>city</th>\n",
              "      <th>date</th>\n",
              "      <th>raw_text</th>\n",
              "    </tr>\n",
              "  </thead>\n",
              "  <tbody>\n",
              "    <tr>\n",
              "      <th>0</th>\n",
              "      <td>new-york tribune.</td>\n",
              "      <td>[New York]</td>\n",
              "      <td>19210515</td>\n",
              "      <td>WELLESLEY SENIORS, some two hundred and fifty ...</td>\n",
              "    </tr>\n",
              "    <tr>\n",
              "      <th>1</th>\n",
              "      <td>new-york tribune.</td>\n",
              "      <td>[New York]</td>\n",
              "      <td>19211006</td>\n",
              "      <td>Masterly Filching of Carl Mays Deceives Giants...</td>\n",
              "    </tr>\n",
              "    <tr>\n",
              "      <th>2</th>\n",
              "      <td>evening world.</td>\n",
              "      <td>[New York]</td>\n",
              "      <td>19221110</td>\n",
              "      <td>THE EVENING WORLD, FRIDAY, NOVEMBER 10, 1922.\\...</td>\n",
              "    </tr>\n",
              "    <tr>\n",
              "      <th>3</th>\n",
              "      <td>daily worker.</td>\n",
              "      <td>[Chicago, New York]</td>\n",
              "      <td>19261106</td>\n",
              "      <td>• ,\\nis - \" - By V. F. Calverton\\nEvery day of...</td>\n",
              "    </tr>\n",
              "    <tr>\n",
              "      <th>4</th>\n",
              "      <td>new-york tribune.</td>\n",
              "      <td>[New York]</td>\n",
              "      <td>19210508</td>\n",
              "      <td>Gi?^8J_y*g Second Game in jRow From DodgCTS^Ru...</td>\n",
              "    </tr>\n",
              "  </tbody>\n",
              "</table>\n",
              "</div>"
            ],
            "text/plain": [
              "               title                 city      date  \\\n",
              "0  new-york tribune.           [New York]  19210515   \n",
              "1  new-york tribune.           [New York]  19211006   \n",
              "2     evening world.           [New York]  19221110   \n",
              "3      daily worker.  [Chicago, New York]  19261106   \n",
              "4  new-york tribune.           [New York]  19210508   \n",
              "\n",
              "                                            raw_text  \n",
              "0  WELLESLEY SENIORS, some two hundred and fifty ...  \n",
              "1  Masterly Filching of Carl Mays Deceives Giants...  \n",
              "2  THE EVENING WORLD, FRIDAY, NOVEMBER 10, 1922.\\...  \n",
              "3  • ,\\nis - \" - By V. F. Calverton\\nEvery day of...  \n",
              "4  Gi?^8J_y*g Second Game in jRow From DodgCTS^Ru...  "
            ]
          },
          "execution_count": 12,
          "metadata": {},
          "output_type": "execute_result"
        }
      ],
      "source": [
        "df.head()"
      ]
    },
    {
      "cell_type": "markdown",
      "metadata": {
        "id": "z509dIQEep7G"
      },
      "source": [
        "### Change date format\n",
        "Pandas allows us to clean and edit our data easily (relatively). We can first convert the string values in the date column to properly formated dates and then sort the dataframe by date."
      ]
    },
    {
      "cell_type": "code",
      "execution_count": 13,
      "metadata": {
        "id": "z1fENcFaZJIx"
      },
      "outputs": [],
      "source": [
        "# convert date column from string to date-time object\n",
        "df['date'] = pd.to_datetime(df['date'])"
      ]
    },
    {
      "cell_type": "code",
      "execution_count": 14,
      "metadata": {
        "id": "4c0otcZIey1D"
      },
      "outputs": [
        {
          "data": {
            "text/html": [
              "<div>\n",
              "<style scoped>\n",
              "    .dataframe tbody tr th:only-of-type {\n",
              "        vertical-align: middle;\n",
              "    }\n",
              "\n",
              "    .dataframe tbody tr th {\n",
              "        vertical-align: top;\n",
              "    }\n",
              "\n",
              "    .dataframe thead th {\n",
              "        text-align: right;\n",
              "    }\n",
              "</style>\n",
              "<table border=\"1\" class=\"dataframe\">\n",
              "  <thead>\n",
              "    <tr style=\"text-align: right;\">\n",
              "      <th></th>\n",
              "      <th>title</th>\n",
              "      <th>city</th>\n",
              "      <th>date</th>\n",
              "      <th>raw_text</th>\n",
              "    </tr>\n",
              "  </thead>\n",
              "  <tbody>\n",
              "    <tr>\n",
              "      <th>0</th>\n",
              "      <td>new-york tribune.</td>\n",
              "      <td>[New York]</td>\n",
              "      <td>1921-05-15</td>\n",
              "      <td>WELLESLEY SENIORS, some two hundred and fifty ...</td>\n",
              "    </tr>\n",
              "    <tr>\n",
              "      <th>1</th>\n",
              "      <td>new-york tribune.</td>\n",
              "      <td>[New York]</td>\n",
              "      <td>1921-10-06</td>\n",
              "      <td>Masterly Filching of Carl Mays Deceives Giants...</td>\n",
              "    </tr>\n",
              "    <tr>\n",
              "      <th>2</th>\n",
              "      <td>evening world.</td>\n",
              "      <td>[New York]</td>\n",
              "      <td>1922-11-10</td>\n",
              "      <td>THE EVENING WORLD, FRIDAY, NOVEMBER 10, 1922.\\...</td>\n",
              "    </tr>\n",
              "    <tr>\n",
              "      <th>3</th>\n",
              "      <td>daily worker.</td>\n",
              "      <td>[Chicago, New York]</td>\n",
              "      <td>1926-11-06</td>\n",
              "      <td>• ,\\nis - \" - By V. F. Calverton\\nEvery day of...</td>\n",
              "    </tr>\n",
              "    <tr>\n",
              "      <th>4</th>\n",
              "      <td>new-york tribune.</td>\n",
              "      <td>[New York]</td>\n",
              "      <td>1921-05-08</td>\n",
              "      <td>Gi?^8J_y*g Second Game in jRow From DodgCTS^Ru...</td>\n",
              "    </tr>\n",
              "  </tbody>\n",
              "</table>\n",
              "</div>"
            ],
            "text/plain": [
              "               title                 city       date  \\\n",
              "0  new-york tribune.           [New York] 1921-05-15   \n",
              "1  new-york tribune.           [New York] 1921-10-06   \n",
              "2     evening world.           [New York] 1922-11-10   \n",
              "3      daily worker.  [Chicago, New York] 1926-11-06   \n",
              "4  new-york tribune.           [New York] 1921-05-08   \n",
              "\n",
              "                                            raw_text  \n",
              "0  WELLESLEY SENIORS, some two hundred and fifty ...  \n",
              "1  Masterly Filching of Carl Mays Deceives Giants...  \n",
              "2  THE EVENING WORLD, FRIDAY, NOVEMBER 10, 1922.\\...  \n",
              "3  • ,\\nis - \" - By V. F. Calverton\\nEvery day of...  \n",
              "4  Gi?^8J_y*g Second Game in jRow From DodgCTS^Ru...  "
            ]
          },
          "execution_count": 14,
          "metadata": {},
          "output_type": "execute_result"
        }
      ],
      "source": [
        "df.head()"
      ]
    },
    {
      "cell_type": "code",
      "execution_count": 15,
      "metadata": {
        "id": "wjTfqq38e0XB"
      },
      "outputs": [],
      "source": [
        "# sort by date\n",
        "df = df.sort_values(by='date')"
      ]
    },
    {
      "cell_type": "code",
      "execution_count": 16,
      "metadata": {
        "id": "3XYFLmRhe7Gp"
      },
      "outputs": [
        {
          "data": {
            "text/html": [
              "<div>\n",
              "<style scoped>\n",
              "    .dataframe tbody tr th:only-of-type {\n",
              "        vertical-align: middle;\n",
              "    }\n",
              "\n",
              "    .dataframe tbody tr th {\n",
              "        vertical-align: top;\n",
              "    }\n",
              "\n",
              "    .dataframe thead th {\n",
              "        text-align: right;\n",
              "    }\n",
              "</style>\n",
              "<table border=\"1\" class=\"dataframe\">\n",
              "  <thead>\n",
              "    <tr style=\"text-align: right;\">\n",
              "      <th></th>\n",
              "      <th>title</th>\n",
              "      <th>city</th>\n",
              "      <th>date</th>\n",
              "      <th>raw_text</th>\n",
              "    </tr>\n",
              "  </thead>\n",
              "  <tbody>\n",
              "    <tr>\n",
              "      <th>7</th>\n",
              "      <td>new-york tribune.</td>\n",
              "      <td>[New York]</td>\n",
              "      <td>1920-03-20</td>\n",
              "      <td>Ruth Finally Recovers His Batting Eye and Poun...</td>\n",
              "    </tr>\n",
              "    <tr>\n",
              "      <th>4</th>\n",
              "      <td>new-york tribune.</td>\n",
              "      <td>[New York]</td>\n",
              "      <td>1921-05-08</td>\n",
              "      <td>Gi?^8J_y*g Second Game in jRow From DodgCTS^Ru...</td>\n",
              "    </tr>\n",
              "    <tr>\n",
              "      <th>0</th>\n",
              "      <td>new-york tribune.</td>\n",
              "      <td>[New York]</td>\n",
              "      <td>1921-05-15</td>\n",
              "      <td>WELLESLEY SENIORS, some two hundred and fifty ...</td>\n",
              "    </tr>\n",
              "    <tr>\n",
              "      <th>1</th>\n",
              "      <td>new-york tribune.</td>\n",
              "      <td>[New York]</td>\n",
              "      <td>1921-10-06</td>\n",
              "      <td>Masterly Filching of Carl Mays Deceives Giants...</td>\n",
              "    </tr>\n",
              "    <tr>\n",
              "      <th>6</th>\n",
              "      <td>new-york tribune.</td>\n",
              "      <td>[New York]</td>\n",
              "      <td>1921-11-10</td>\n",
              "      <td>Serapis Wins Annapolis Handicap at Pimlico?Buf...</td>\n",
              "    </tr>\n",
              "  </tbody>\n",
              "</table>\n",
              "</div>"
            ],
            "text/plain": [
              "               title        city       date  \\\n",
              "7  new-york tribune.  [New York] 1920-03-20   \n",
              "4  new-york tribune.  [New York] 1921-05-08   \n",
              "0  new-york tribune.  [New York] 1921-05-15   \n",
              "1  new-york tribune.  [New York] 1921-10-06   \n",
              "6  new-york tribune.  [New York] 1921-11-10   \n",
              "\n",
              "                                            raw_text  \n",
              "7  Ruth Finally Recovers His Batting Eye and Poun...  \n",
              "4  Gi?^8J_y*g Second Game in jRow From DodgCTS^Ru...  \n",
              "0  WELLESLEY SENIORS, some two hundred and fifty ...  \n",
              "1  Masterly Filching of Carl Mays Deceives Giants...  \n",
              "6  Serapis Wins Annapolis Handicap at Pimlico?Buf...  "
            ]
          },
          "execution_count": 16,
          "metadata": {},
          "output_type": "execute_result"
        }
      ],
      "source": [
        "df.head()"
      ]
    },
    {
      "cell_type": "markdown",
      "metadata": {
        "id": "epH12SFJfJm6"
      },
      "source": [
        "### Process text\n",
        "We can now porcess our text for analysis. The text provded by Chronicling America comes from optical character recognition (ocr) and the accuracy of ocr can be low. Here I will remove new line characters (`\\n`), stop words, and then lemamtize the text.\n",
        "\n",
        "**Rememeber** the decisions you make in how to process your text should be based on the kind of analysis you want to do."
      ]
    },
    {
      "cell_type": "code",
      "execution_count": 17,
      "metadata": {
        "id": "m6Urrlffe8ro"
      },
      "outputs": [],
      "source": [
        "# write fuction to process text\n",
        "# load nlp model\n",
        "nlp = spacy.load(\"en_core_web_sm\")\n",
        "nlp.disable_pipes('ner', 'parser')  # these are unnecessary for the task at hand\n",
        "\n",
        "def process_text(text):\n",
        "    \"\"\"Remove new line characters and lemmatize text. Returns string of lemmas\"\"\"\n",
        "    text = text.replace('\\n', ' ')\n",
        "    doc = nlp(text)\n",
        "    tokens = [token for token in doc]\n",
        "    no_stops = [token for token in tokens if not token.is_stop]\n",
        "    no_punct = [token for token in no_stops if token.is_alpha]\n",
        "    lemmas = [token.lemma_ for token in no_punct]\n",
        "    lemmas_lower = [lemma.lower() for lemma in lemmas]\n",
        "    lemmas_string = ' '.join(lemmas_lower)\n",
        "    return lemmas_string"
      ]
    },
    {
      "cell_type": "code",
      "execution_count": 18,
      "metadata": {
        "id": "VkQk9wuXfrwM"
      },
      "outputs": [],
      "source": [
        "# apply process_text function\n",
        "# this may take a few minutes\n",
        "df['lemmas'] = df['raw_text'].apply(process_text)"
      ]
    },
    {
      "cell_type": "code",
      "execution_count": 20,
      "metadata": {
        "id": "7UU3K6rkfsRM"
      },
      "outputs": [],
      "source": [
        "# save to csv\n",
        "df.to_csv(f'{search_term}{start_date}-{end_date}.csv', index=False)"
      ]
    }
  ],
  "metadata": {
    "colab": {
      "private_outputs": true,
      "provenance": []
    },
    "interpreter": {
      "hash": "31f2aee4e71d21fbe5cf8b01ff0e069b9275f58929596ceb00d14d90e3e16cd6"
    },
    "kernelspec": {
      "display_name": "Python 3.9.6 64-bit",
      "language": "python",
      "name": "python3"
    },
    "language_info": {
      "codemirror_mode": {
        "name": "ipython",
        "version": 3
      },
      "file_extension": ".py",
      "mimetype": "text/x-python",
      "name": "python",
      "nbconvert_exporter": "python",
      "pygments_lexer": "ipython3",
      "version": "3.9.6"
    }
  },
  "nbformat": 4,
  "nbformat_minor": 0
}
